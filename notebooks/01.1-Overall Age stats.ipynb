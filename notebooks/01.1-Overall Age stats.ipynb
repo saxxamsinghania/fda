{
 "cells": [
  {
   "cell_type": "markdown",
   "metadata": {},
   "source": [
    "# Load data"
   ]
  },
  {
   "cell_type": "code",
   "execution_count": 1,
   "metadata": {},
   "outputs": [],
   "source": [
    "import pandas as pd"
   ]
  },
  {
   "cell_type": "code",
   "execution_count": 2,
   "metadata": {},
   "outputs": [
    {
     "data": {
      "text/html": [
       "<div>\n",
       "<style scoped>\n",
       "    .dataframe tbody tr th:only-of-type {\n",
       "        vertical-align: middle;\n",
       "    }\n",
       "\n",
       "    .dataframe tbody tr th {\n",
       "        vertical-align: top;\n",
       "    }\n",
       "\n",
       "    .dataframe thead th {\n",
       "        text-align: right;\n",
       "    }\n",
       "</style>\n",
       "<table border=\"1\" class=\"dataframe\">\n",
       "  <thead>\n",
       "    <tr style=\"text-align: right;\">\n",
       "      <th></th>\n",
       "      <th>Name</th>\n",
       "      <th>gender_wiki</th>\n",
       "      <th>birth_date_wiki</th>\n",
       "      <th>nationality_wiki</th>\n",
       "      <th>gender_dbpedia</th>\n",
       "      <th>birth_date_dbpedia</th>\n",
       "      <th>nationality_dbpedia</th>\n",
       "      <th>gender_gkg</th>\n",
       "      <th>birth_date_gkg</th>\n",
       "      <th>nationality_gkg</th>\n",
       "      <th>...</th>\n",
       "      <th>description</th>\n",
       "      <th>year_in_title</th>\n",
       "      <th>VoxCeleb_ID</th>\n",
       "      <th>gender</th>\n",
       "      <th>birth_year</th>\n",
       "      <th>year_upload_yt</th>\n",
       "      <th>recording_year</th>\n",
       "      <th>recording_year_title_only</th>\n",
       "      <th>speaker_age</th>\n",
       "      <th>speaker_age_title_only</th>\n",
       "    </tr>\n",
       "  </thead>\n",
       "  <tbody>\n",
       "    <tr>\n",
       "      <th>0</th>\n",
       "      <td>Arnd Peiffer</td>\n",
       "      <td>male</td>\n",
       "      <td>1987-03-18</td>\n",
       "      <td>Germany</td>\n",
       "      <td>male</td>\n",
       "      <td>1987-3-18</td>\n",
       "      <td>NaN</td>\n",
       "      <td>male</td>\n",
       "      <td>1987-03-18</td>\n",
       "      <td>Germany</td>\n",
       "      <td>...</td>\n",
       "      <td>\"Interview mit Arnd Peiffer beim abschlie\\u00d...</td>\n",
       "      <td>2013.0</td>\n",
       "      <td>id00778</td>\n",
       "      <td>male</td>\n",
       "      <td>1987.0</td>\n",
       "      <td>2013.0</td>\n",
       "      <td>2013.0</td>\n",
       "      <td>2013.0</td>\n",
       "      <td>26.0</td>\n",
       "      <td>26.0</td>\n",
       "    </tr>\n",
       "    <tr>\n",
       "      <th>1</th>\n",
       "      <td>Arnd Peiffer</td>\n",
       "      <td>male</td>\n",
       "      <td>1987-03-18</td>\n",
       "      <td>Germany</td>\n",
       "      <td>male</td>\n",
       "      <td>1987-3-18</td>\n",
       "      <td>NaN</td>\n",
       "      <td>male</td>\n",
       "      <td>1987-03-18</td>\n",
       "      <td>Germany</td>\n",
       "      <td>...</td>\n",
       "      <td>\"It was a successful first competition for the...</td>\n",
       "      <td>2017.0</td>\n",
       "      <td>id00778</td>\n",
       "      <td>male</td>\n",
       "      <td>1987.0</td>\n",
       "      <td>2017.0</td>\n",
       "      <td>NaN</td>\n",
       "      <td>2017.0</td>\n",
       "      <td>NaN</td>\n",
       "      <td>30.0</td>\n",
       "    </tr>\n",
       "    <tr>\n",
       "      <th>2</th>\n",
       "      <td>Arnd Peiffer</td>\n",
       "      <td>male</td>\n",
       "      <td>1987-03-18</td>\n",
       "      <td>Germany</td>\n",
       "      <td>male</td>\n",
       "      <td>1987-3-18</td>\n",
       "      <td>NaN</td>\n",
       "      <td>male</td>\n",
       "      <td>1987-03-18</td>\n",
       "      <td>Germany</td>\n",
       "      <td>...</td>\n",
       "      <td>\"\\u00d6stersund-2016. Comments from Benedikt D...</td>\n",
       "      <td>2016.0</td>\n",
       "      <td>id00778</td>\n",
       "      <td>male</td>\n",
       "      <td>1987.0</td>\n",
       "      <td>2016.0</td>\n",
       "      <td>2016.0</td>\n",
       "      <td>2016.0</td>\n",
       "      <td>29.0</td>\n",
       "      <td>29.0</td>\n",
       "    </tr>\n",
       "    <tr>\n",
       "      <th>3</th>\n",
       "      <td>Arnd Peiffer</td>\n",
       "      <td>male</td>\n",
       "      <td>1987-03-18</td>\n",
       "      <td>Germany</td>\n",
       "      <td>male</td>\n",
       "      <td>1987-3-18</td>\n",
       "      <td>NaN</td>\n",
       "      <td>male</td>\n",
       "      <td>1987-03-18</td>\n",
       "      <td>Germany</td>\n",
       "      <td>...</td>\n",
       "      <td>\"Interview mit Arnd Peiffer bei der DSV-Einkle...</td>\n",
       "      <td>2012.0</td>\n",
       "      <td>id00778</td>\n",
       "      <td>male</td>\n",
       "      <td>1987.0</td>\n",
       "      <td>2012.0</td>\n",
       "      <td>NaN</td>\n",
       "      <td>2012.0</td>\n",
       "      <td>NaN</td>\n",
       "      <td>25.0</td>\n",
       "    </tr>\n",
       "    <tr>\n",
       "      <th>4</th>\n",
       "      <td>Arnd Peiffer</td>\n",
       "      <td>male</td>\n",
       "      <td>1987-03-18</td>\n",
       "      <td>Germany</td>\n",
       "      <td>male</td>\n",
       "      <td>1987-3-18</td>\n",
       "      <td>NaN</td>\n",
       "      <td>male</td>\n",
       "      <td>1987-03-18</td>\n",
       "      <td>Germany</td>\n",
       "      <td>...</td>\n",
       "      <td>\"Interview nach dem Verfolgungsrennen in Konti...</td>\n",
       "      <td>NaN</td>\n",
       "      <td>id00778</td>\n",
       "      <td>male</td>\n",
       "      <td>1987.0</td>\n",
       "      <td>2010.0</td>\n",
       "      <td>NaN</td>\n",
       "      <td>NaN</td>\n",
       "      <td>NaN</td>\n",
       "      <td>NaN</td>\n",
       "    </tr>\n",
       "  </tbody>\n",
       "</table>\n",
       "<p>5 rows × 23 columns</p>\n",
       "</div>"
      ],
      "text/plain": [
       "           Name gender_wiki birth_date_wiki nationality_wiki gender_dbpedia  \\\n",
       "0  Arnd Peiffer        male      1987-03-18          Germany           male   \n",
       "1  Arnd Peiffer        male      1987-03-18          Germany           male   \n",
       "2  Arnd Peiffer        male      1987-03-18          Germany           male   \n",
       "3  Arnd Peiffer        male      1987-03-18          Germany           male   \n",
       "4  Arnd Peiffer        male      1987-03-18          Germany           male   \n",
       "\n",
       "  birth_date_dbpedia nationality_dbpedia gender_gkg birth_date_gkg  \\\n",
       "0          1987-3-18                 NaN       male     1987-03-18   \n",
       "1          1987-3-18                 NaN       male     1987-03-18   \n",
       "2          1987-3-18                 NaN       male     1987-03-18   \n",
       "3          1987-3-18                 NaN       male     1987-03-18   \n",
       "4          1987-3-18                 NaN       male     1987-03-18   \n",
       "\n",
       "  nationality_gkg  ...                                        description  \\\n",
       "0         Germany  ...  \"Interview mit Arnd Peiffer beim abschlie\\u00d...   \n",
       "1         Germany  ...  \"It was a successful first competition for the...   \n",
       "2         Germany  ...  \"\\u00d6stersund-2016. Comments from Benedikt D...   \n",
       "3         Germany  ...  \"Interview mit Arnd Peiffer bei der DSV-Einkle...   \n",
       "4         Germany  ...  \"Interview nach dem Verfolgungsrennen in Konti...   \n",
       "\n",
       "  year_in_title VoxCeleb_ID gender  birth_year year_upload_yt recording_year  \\\n",
       "0        2013.0     id00778   male      1987.0         2013.0         2013.0   \n",
       "1        2017.0     id00778   male      1987.0         2017.0            NaN   \n",
       "2        2016.0     id00778   male      1987.0         2016.0         2016.0   \n",
       "3        2012.0     id00778   male      1987.0         2012.0            NaN   \n",
       "4           NaN     id00778   male      1987.0         2010.0            NaN   \n",
       "\n",
       "   recording_year_title_only  speaker_age  speaker_age_title_only  \n",
       "0                     2013.0         26.0                    26.0  \n",
       "1                     2017.0          NaN                    30.0  \n",
       "2                     2016.0         29.0                    29.0  \n",
       "3                     2012.0          NaN                    25.0  \n",
       "4                        NaN          NaN                     NaN  \n",
       "\n",
       "[5 rows x 23 columns]"
      ]
     },
     "execution_count": 2,
     "metadata": {},
     "output_type": "execute_result"
    }
   ],
   "source": [
    "df = pd.read_csv(\"../dataset/final_dataframe_extended.csv\")\n",
    "df.head()"
   ]
  },
  {
   "cell_type": "markdown",
   "metadata": {},
   "source": [
    "## General statistics"
   ]
  },
  {
   "cell_type": "code",
   "execution_count": 3,
   "metadata": {},
   "outputs": [
    {
     "data": {
      "text/plain": [
       "(149350, 23)"
      ]
     },
     "execution_count": 3,
     "metadata": {},
     "output_type": "execute_result"
    }
   ],
   "source": [
    "df.shape"
   ]
  },
  {
   "cell_type": "code",
   "execution_count": 4,
   "metadata": {},
   "outputs": [
    {
     "data": {
      "text/html": [
       "<div>\n",
       "<style scoped>\n",
       "    .dataframe tbody tr th:only-of-type {\n",
       "        vertical-align: middle;\n",
       "    }\n",
       "\n",
       "    .dataframe tbody tr th {\n",
       "        vertical-align: top;\n",
       "    }\n",
       "\n",
       "    .dataframe thead th {\n",
       "        text-align: right;\n",
       "    }\n",
       "</style>\n",
       "<table border=\"1\" class=\"dataframe\">\n",
       "  <thead>\n",
       "    <tr style=\"text-align: right;\">\n",
       "      <th></th>\n",
       "      <th>year_in_title</th>\n",
       "      <th>birth_year</th>\n",
       "      <th>year_upload_yt</th>\n",
       "      <th>recording_year</th>\n",
       "      <th>recording_year_title_only</th>\n",
       "      <th>speaker_age</th>\n",
       "      <th>speaker_age_title_only</th>\n",
       "    </tr>\n",
       "  </thead>\n",
       "  <tbody>\n",
       "    <tr>\n",
       "      <th>count</th>\n",
       "      <td>23315.000000</td>\n",
       "      <td>127050.000000</td>\n",
       "      <td>132029.000000</td>\n",
       "      <td>7642.000000</td>\n",
       "      <td>16476.000000</td>\n",
       "      <td>6601.000000</td>\n",
       "      <td>14247.000000</td>\n",
       "    </tr>\n",
       "    <tr>\n",
       "      <th>mean</th>\n",
       "      <td>2001.971092</td>\n",
       "      <td>1970.364368</td>\n",
       "      <td>2013.335207</td>\n",
       "      <td>2013.388642</td>\n",
       "      <td>2013.503642</td>\n",
       "      <td>40.570217</td>\n",
       "      <td>40.776725</td>\n",
       "    </tr>\n",
       "    <tr>\n",
       "      <th>std</th>\n",
       "      <td>93.716237</td>\n",
       "      <td>14.250047</td>\n",
       "      <td>2.559013</td>\n",
       "      <td>2.414558</td>\n",
       "      <td>2.385449</td>\n",
       "      <td>14.090894</td>\n",
       "      <td>14.084826</td>\n",
       "    </tr>\n",
       "    <tr>\n",
       "      <th>min</th>\n",
       "      <td>1000.000000</td>\n",
       "      <td>1904.000000</td>\n",
       "      <td>2006.000000</td>\n",
       "      <td>2006.000000</td>\n",
       "      <td>2006.000000</td>\n",
       "      <td>10.000000</td>\n",
       "      <td>10.000000</td>\n",
       "    </tr>\n",
       "    <tr>\n",
       "      <th>25%</th>\n",
       "      <td>2010.000000</td>\n",
       "      <td>1960.000000</td>\n",
       "      <td>2012.000000</td>\n",
       "      <td>2012.000000</td>\n",
       "      <td>2012.000000</td>\n",
       "      <td>29.000000</td>\n",
       "      <td>29.000000</td>\n",
       "    </tr>\n",
       "    <tr>\n",
       "      <th>50%</th>\n",
       "      <td>2013.000000</td>\n",
       "      <td>1972.000000</td>\n",
       "      <td>2014.000000</td>\n",
       "      <td>2014.000000</td>\n",
       "      <td>2014.000000</td>\n",
       "      <td>38.000000</td>\n",
       "      <td>38.000000</td>\n",
       "    </tr>\n",
       "    <tr>\n",
       "      <th>75%</th>\n",
       "      <td>2015.000000</td>\n",
       "      <td>1982.000000</td>\n",
       "      <td>2015.000000</td>\n",
       "      <td>2015.000000</td>\n",
       "      <td>2016.000000</td>\n",
       "      <td>51.000000</td>\n",
       "      <td>51.000000</td>\n",
       "    </tr>\n",
       "    <tr>\n",
       "      <th>max</th>\n",
       "      <td>2967.000000</td>\n",
       "      <td>2000.000000</td>\n",
       "      <td>2017.000000</td>\n",
       "      <td>2017.000000</td>\n",
       "      <td>2017.000000</td>\n",
       "      <td>92.000000</td>\n",
       "      <td>95.000000</td>\n",
       "    </tr>\n",
       "  </tbody>\n",
       "</table>\n",
       "</div>"
      ],
      "text/plain": [
       "       year_in_title     birth_year  year_upload_yt  recording_year  \\\n",
       "count   23315.000000  127050.000000   132029.000000     7642.000000   \n",
       "mean     2001.971092    1970.364368     2013.335207     2013.388642   \n",
       "std        93.716237      14.250047        2.559013        2.414558   \n",
       "min      1000.000000    1904.000000     2006.000000     2006.000000   \n",
       "25%      2010.000000    1960.000000     2012.000000     2012.000000   \n",
       "50%      2013.000000    1972.000000     2014.000000     2014.000000   \n",
       "75%      2015.000000    1982.000000     2015.000000     2015.000000   \n",
       "max      2967.000000    2000.000000     2017.000000     2017.000000   \n",
       "\n",
       "       recording_year_title_only  speaker_age  speaker_age_title_only  \n",
       "count               16476.000000  6601.000000            14247.000000  \n",
       "mean                 2013.503642    40.570217               40.776725  \n",
       "std                     2.385449    14.090894               14.084826  \n",
       "min                  2006.000000    10.000000               10.000000  \n",
       "25%                  2012.000000    29.000000               29.000000  \n",
       "50%                  2014.000000    38.000000               38.000000  \n",
       "75%                  2016.000000    51.000000               51.000000  \n",
       "max                  2017.000000    92.000000               95.000000  "
      ]
     },
     "execution_count": 4,
     "metadata": {},
     "output_type": "execute_result"
    }
   ],
   "source": [
    "df.describe()"
   ]
  },
  {
   "cell_type": "markdown",
   "metadata": {},
   "source": [
    "## Age\n",
    "For computing age statistics we will first select only the speaker_age and name columns:"
   ]
  },
  {
   "cell_type": "code",
   "execution_count": 5,
   "metadata": {},
   "outputs": [],
   "source": [
    "df_age = df[['speaker_age', 'Name']]"
   ]
  },
  {
   "cell_type": "markdown",
   "metadata": {},
   "source": [
    "Then we will drop duplicates, as multiple records for the same speaker may exist:"
   ]
  },
  {
   "cell_type": "code",
   "execution_count": 6,
   "metadata": {},
   "outputs": [
    {
     "name": "stderr",
     "output_type": "stream",
     "text": [
      "c:\\users\\hechm\\appdata\\local\\programs\\python\\python37\\lib\\site-packages\\ipykernel_launcher.py:1: SettingWithCopyWarning: \n",
      "A value is trying to be set on a copy of a slice from a DataFrame\n",
      "\n",
      "See the caveats in the documentation: https://pandas.pydata.org/pandas-docs/stable/user_guide/indexing.html#returning-a-view-versus-a-copy\n",
      "  \"\"\"Entry point for launching an IPython kernel.\n"
     ]
    }
   ],
   "source": [
    "df_age.drop_duplicates(inplace=True)"
   ]
  },
  {
   "cell_type": "code",
   "execution_count": 7,
   "metadata": {},
   "outputs": [
    {
     "data": {
      "text/plain": [
       "(10933, 2)"
      ]
     },
     "execution_count": 7,
     "metadata": {},
     "output_type": "execute_result"
    }
   ],
   "source": [
    "df_age.shape"
   ]
  },
  {
   "cell_type": "markdown",
   "metadata": {},
   "source": [
    "Let's now see the main statistics related to age distribution:"
   ]
  },
  {
   "cell_type": "code",
   "execution_count": 8,
   "metadata": {},
   "outputs": [
    {
     "data": {
      "text/html": [
       "<div>\n",
       "<style scoped>\n",
       "    .dataframe tbody tr th:only-of-type {\n",
       "        vertical-align: middle;\n",
       "    }\n",
       "\n",
       "    .dataframe tbody tr th {\n",
       "        vertical-align: top;\n",
       "    }\n",
       "\n",
       "    .dataframe thead th {\n",
       "        text-align: right;\n",
       "    }\n",
       "</style>\n",
       "<table border=\"1\" class=\"dataframe\">\n",
       "  <thead>\n",
       "    <tr style=\"text-align: right;\">\n",
       "      <th></th>\n",
       "      <th>speaker_age</th>\n",
       "    </tr>\n",
       "  </thead>\n",
       "  <tbody>\n",
       "    <tr>\n",
       "      <th>count</th>\n",
       "      <td>4821.000000</td>\n",
       "    </tr>\n",
       "    <tr>\n",
       "      <th>mean</th>\n",
       "      <td>41.324207</td>\n",
       "    </tr>\n",
       "    <tr>\n",
       "      <th>std</th>\n",
       "      <td>14.261519</td>\n",
       "    </tr>\n",
       "    <tr>\n",
       "      <th>min</th>\n",
       "      <td>10.000000</td>\n",
       "    </tr>\n",
       "    <tr>\n",
       "      <th>25%</th>\n",
       "      <td>30.000000</td>\n",
       "    </tr>\n",
       "    <tr>\n",
       "      <th>50%</th>\n",
       "      <td>39.000000</td>\n",
       "    </tr>\n",
       "    <tr>\n",
       "      <th>75%</th>\n",
       "      <td>52.000000</td>\n",
       "    </tr>\n",
       "    <tr>\n",
       "      <th>max</th>\n",
       "      <td>92.000000</td>\n",
       "    </tr>\n",
       "  </tbody>\n",
       "</table>\n",
       "</div>"
      ],
      "text/plain": [
       "       speaker_age\n",
       "count  4821.000000\n",
       "mean     41.324207\n",
       "std      14.261519\n",
       "min      10.000000\n",
       "25%      30.000000\n",
       "50%      39.000000\n",
       "75%      52.000000\n",
       "max      92.000000"
      ]
     },
     "execution_count": 8,
     "metadata": {},
     "output_type": "execute_result"
    }
   ],
   "source": [
    "df_age.describe()"
   ]
  },
  {
   "cell_type": "markdown",
   "metadata": {},
   "source": [
    "For more than half of the VIPS it was not possible to compute the age with the approach described in the paper. Here it follows the distribution of the inferred ages:"
   ]
  },
  {
   "cell_type": "code",
   "execution_count": 9,
   "metadata": {},
   "outputs": [
    {
     "data": {
      "text/plain": [
       "(30, 40]    1287\n",
       "(20, 30]    1204\n",
       "(40, 50]     926\n",
       "(50, 60]     702\n",
       "(60, 70]     457\n",
       "(70, 80]     122\n",
       "(10, 20]     112\n",
       "(80, 92]      10\n",
       "(0, 10]        1\n",
       "Name: speaker_age, dtype: int64"
      ]
     },
     "execution_count": 9,
     "metadata": {},
     "output_type": "execute_result"
    }
   ],
   "source": [
    "pd.cut(df_age.speaker_age, bins=[0, 10, 20, 30, 40, 50, 60, 70, 80, 92]).value_counts()"
   ]
  }
 ],
 "metadata": {
  "kernelspec": {
   "display_name": "Python 3",
   "language": "python",
   "name": "python3"
  },
  "language_info": {
   "codemirror_mode": {
    "name": "ipython",
    "version": 3
   },
   "file_extension": ".py",
   "mimetype": "text/x-python",
   "name": "python",
   "nbconvert_exporter": "python",
   "pygments_lexer": "ipython3",
   "version": "3.7.9"
  }
 },
 "nbformat": 4,
 "nbformat_minor": 4
}
