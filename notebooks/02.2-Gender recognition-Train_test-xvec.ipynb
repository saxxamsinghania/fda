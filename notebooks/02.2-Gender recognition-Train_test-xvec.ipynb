{
 "cells": [
  {
   "cell_type": "markdown",
   "metadata": {},
   "source": [
    "# Reproducibility"
   ]
  },
  {
   "cell_type": "code",
   "execution_count": 1,
   "metadata": {},
   "outputs": [],
   "source": [
    "import torch\n",
    "my_seed=19951008\n",
    "torch.manual_seed(my_seed)\n",
    "import numpy as np\n",
    "np.random.seed(my_seed)\n",
    "from tqdm import tqdm\n",
    "#torch.set_deterministic(True)"
   ]
  },
  {
   "cell_type": "markdown",
   "metadata": {},
   "source": [
    "# Import libraries"
   ]
  },
  {
   "cell_type": "code",
   "execution_count": 2,
   "metadata": {},
   "outputs": [],
   "source": [
    "import json\n",
    "from sklearn.preprocessing import LabelEncoder\n",
    "import sys\n",
    "## These two should correspond to the path where asvtorch code () is present, in particular the:\n",
    "# - asvtorch/asvtorch folder\n",
    "# - asvtorch/asvtorch/src folder\n",
    "asvtorch/asvotorch\n",
    "sys.path.append(\"../\")\n",
    "sys.path.append(\"../..\")\n",
    "from src.utterances.utterance_list import UtteranceList\n",
    "from src.backend.vector_processing import VectorProcessor\n",
    "import wandb\n",
    "from src.gender_classifiers import LogisticRegression, FC2, FC4\n",
    "from torch.autograd import Variable\n",
    "import sklearn.metrics\n",
    "from sklearn.model_selection import StratifiedKFold\n",
    "import scipy.linalg\n",
    "import itertools\n",
    "import pandas as pd\n",
    "from tqdm import tqdm"
   ]
  },
  {
   "cell_type": "markdown",
   "metadata": {},
   "source": [
    "# X-Vectors\n",
    "## Load features"
   ]
  },
  {
   "cell_type": "code",
   "execution_count": 3,
   "metadata": {},
   "outputs": [
    {
     "name": "stdout",
     "output_type": "stream",
     "text": [
      "Loading: /media/hdd1/khaled/voxceleb_xvector_outputs-correct/full_system_default/utterances/trial_embeddings.pickle\n",
      "Loaded (37.440 s): /media/hdd1/khaled/voxceleb_xvector_outputs-correct/full_system_default/utterances/trial_embeddings.pickle\n",
      "CPU times: user 20.4 s, sys: 13.3 s, total: 33.8 s\n",
      "Wall time: 37.4 s\n"
     ]
    }
   ],
   "source": [
    "%%time\n",
    "plda_data = UtteranceList.load('trial_embeddings', '/media/hdd1/khaled/voxceleb_xvector_outputs-correct/full_system_default/utterances/')\n"
   ]
  },
  {
   "cell_type": "code",
   "execution_count": 4,
   "metadata": {},
   "outputs": [],
   "source": [
    "def get_correct_recordings_index(spk_labels):\n",
    "    spk_labels_dict = {i:spk_labels.count(i) for i in set(spk_labels)}\n",
    "    least_freq_spk = min(list(spk_labels_dict.values()))\n",
    "    print(least_freq_spk)\n",
    "    speaker_indexes = []\n",
    "    frequency_spk_labels_dict = {}\n",
    "    for x in set(spk_labels):\n",
    "        frequency_spk_labels_dict[x] = 0\n",
    "    for index, spk_id in enumerate(spk_labels):\n",
    "        frequency_spk_labels_dict[spk_id] += 1\n",
    "        if frequency_spk_labels_dict[spk_id] > least_freq_spk:\n",
    "            next\n",
    "        else:\n",
    "            speaker_indexes.append(index)\n",
    "    return speaker_indexes"
   ]
  },
  {
   "cell_type": "code",
   "execution_count": 67,
   "metadata": {},
   "outputs": [],
   "source": [
    "def gender_classifier(\n",
    "    train_embeddings,\n",
    "    train_labels,\n",
    "    test_embeddings,\n",
    "    test_labels,\n",
    "    model_name = 'log_reg'):\n",
    "    # Train\n",
    "    print(\"Train embeddings\", train_embeddings.shape)\n",
    "    train = torch.utils.data.TensorDataset(train_embeddings, train_labels)\n",
    "    train_loader = torch.utils.data.DataLoader(dataset = train, batch_size = config['batch_size'], shuffle = False)\n",
    "    # Test\n",
    "    test = torch.utils.data.TensorDataset(test_embeddings, test_labels)\n",
    "    test_loader = torch.utils.data.DataLoader(dataset = test, batch_size = config['test_batch_size'], shuffle = False)\n",
    "    if model_name == 'log_reg':\n",
    "        model = LogisticRegression(train_embeddings.shape[1], 2)\n",
    "    elif model_name == 'fc2':\n",
    "        model = FC2(train_embeddings.shape[1], 2, config['dropout'])\n",
    "    elif model_name == 'fc4':\n",
    "        model = FC4(train_embeddings.shape[1], 2, config['dropout'])\n",
    "    model = model.cuda()\n",
    "    criterion = torch.nn.CrossEntropyLoss()\n",
    "    optimizer = torch.optim.SGD(model.parameters(), lr=config['lr'])\n",
    "    wandb.watch(model, log=\"all\")\n",
    "    for epoch in tqdm(range(config['epochs'])):\n",
    "        for i, (vectors, labels) in enumerate(train_loader):\n",
    "           # Define variables\n",
    "            train = Variable(vectors.view(-1, train_embeddings.shape[1]))\n",
    "            labels = Variable(labels)\n",
    "            # Clear gradients\n",
    "            optimizer.zero_grad()\n",
    "            # Forward propagation\n",
    "            outputs = model(train)\n",
    "            # Calculate softmax and cross entropy loss\n",
    "            loss = criterion(outputs, labels)\n",
    "            # Calculate gradients\n",
    "            loss.backward()\n",
    "            # Update parameters\n",
    "            optimizer.step()\n",
    "    # Get test predictions\n",
    "    y_pred = []\n",
    "    y_true = []\n",
    "    for i, (x_test, y_test) in enumerate(test_loader):\n",
    "        x_test = Variable(x_test)\n",
    "        outputs = model(x_test)\n",
    "        y_pred += torch.max(outputs.data, 1)[1].cpu().numpy().tolist()\n",
    "        y_true += y_test.data.cpu().numpy().tolist()\n",
    "    wandb.log({\n",
    "        'Accuracy': sklearn.metrics.accuracy_score(y_true, y_pred),\n",
    "        'F1': sklearn.metrics.f1_score(y_true, y_pred)\n",
    "    })\n",
    "    return model, sklearn.metrics.f1_score(y_true, y_pred)"
   ]
  },
  {
   "cell_type": "markdown",
   "metadata": {},
   "source": [
    "## Load gender metadata"
   ]
  },
  {
   "cell_type": "code",
   "execution_count": 48,
   "metadata": {},
   "outputs": [
    {
     "name": "stdout",
     "output_type": "stream",
     "text": [
      "gender-test_set.txt  gender-train_set.txt  gender-train_test.csv\r\n"
     ]
    }
   ],
   "source": [
    "! ls dataset/"
   ]
  },
  {
   "cell_type": "code",
   "execution_count": 49,
   "metadata": {},
   "outputs": [
    {
     "data": {
      "text/html": [
       "<div>\n",
       "<style scoped>\n",
       "    .dataframe tbody tr th:only-of-type {\n",
       "        vertical-align: middle;\n",
       "    }\n",
       "\n",
       "    .dataframe tbody tr th {\n",
       "        vertical-align: top;\n",
       "    }\n",
       "\n",
       "    .dataframe thead th {\n",
       "        text-align: right;\n",
       "    }\n",
       "</style>\n",
       "<table border=\"1\" class=\"dataframe\">\n",
       "  <thead>\n",
       "    <tr style=\"text-align: right;\">\n",
       "      <th></th>\n",
       "      <th>gender</th>\n",
       "      <th>Name</th>\n",
       "      <th>VoxCeleb_ID</th>\n",
       "    </tr>\n",
       "  </thead>\n",
       "  <tbody>\n",
       "    <tr>\n",
       "      <th>0</th>\n",
       "      <td>female</td>\n",
       "      <td>Adrienne Bailon</td>\n",
       "      <td>id00097</td>\n",
       "    </tr>\n",
       "    <tr>\n",
       "      <th>1</th>\n",
       "      <td>female</td>\n",
       "      <td>Carolina Crescentini</td>\n",
       "      <td>id01413</td>\n",
       "    </tr>\n",
       "    <tr>\n",
       "      <th>2</th>\n",
       "      <td>female</td>\n",
       "      <td>Preeya Kalidas</td>\n",
       "      <td>id07065</td>\n",
       "    </tr>\n",
       "    <tr>\n",
       "      <th>3</th>\n",
       "      <td>female</td>\n",
       "      <td>Danielle Bisutti</td>\n",
       "      <td>id01948</td>\n",
       "    </tr>\n",
       "    <tr>\n",
       "      <th>4</th>\n",
       "      <td>female</td>\n",
       "      <td>Michaela May</td>\n",
       "      <td>id06026</td>\n",
       "    </tr>\n",
       "  </tbody>\n",
       "</table>\n",
       "</div>"
      ],
      "text/plain": [
       "   gender                  Name VoxCeleb_ID\n",
       "0  female       Adrienne Bailon     id00097\n",
       "1  female  Carolina Crescentini     id01413\n",
       "2  female        Preeya Kalidas     id07065\n",
       "3  female      Danielle Bisutti     id01948\n",
       "4  female          Michaela May     id06026"
      ]
     },
     "execution_count": 49,
     "metadata": {},
     "output_type": "execute_result"
    }
   ],
   "source": [
    "import pandas as pd\n",
    "df = pd.read_csv(\"dataset/gender-train_test.csv\")\n",
    "df.head()"
   ]
  },
  {
   "cell_type": "code",
   "execution_count": 50,
   "metadata": {},
   "outputs": [],
   "source": [
    "with open(\"dataset/gender-train_set.txt\") as f:\n",
    "    train_speakers = json.load(f)\n",
    "    \n",
    "with open(\"dataset/gender-test_set.txt\") as f:\n",
    "    test_speakers = json.load(f)"
   ]
  },
  {
   "cell_type": "code",
   "execution_count": 51,
   "metadata": {},
   "outputs": [
    {
     "name": "stderr",
     "output_type": "stream",
     "text": [
      "100%|██████████| 1128702/1128702 [01:41<00:00, 11165.96it/s]"
     ]
    },
    {
     "name": "stdout",
     "output_type": "stream",
     "text": [
      "CPU times: user 1min 36s, sys: 4.29 s, total: 1min 40s\n",
      "Wall time: 1min 42s\n"
     ]
    },
    {
     "name": "stderr",
     "output_type": "stream",
     "text": [
      "\n"
     ]
    }
   ],
   "source": [
    "%%time\n",
    "from tqdm import tqdm\n",
    "train_indexes = []\n",
    "plda_vox_id = []\n",
    "test_indexes = []\n",
    "test_plda_vox_id = []\n",
    "for i, voxID_video_id in enumerate(tqdm(plda_data.get_utt_labels())):\n",
    "    # Let's now remove the \"recording\" info from voxID-YT id\n",
    "    current_id = voxID_video_id.split(\"-\")[0]\n",
    "\n",
    "    if current_id in train_speakers:\n",
    "        train_indexes.append(i)\n",
    "        plda_vox_id.append(current_id)\n",
    "    elif current_id in test_speakers:\n",
    "        test_indexes.append(i)\n",
    "        test_plda_vox_id.append(current_id)"
   ]
  },
  {
   "cell_type": "code",
   "execution_count": 52,
   "metadata": {},
   "outputs": [
    {
     "data": {
      "text/plain": [
       "(465421, 295345)"
      ]
     },
     "execution_count": 52,
     "metadata": {},
     "output_type": "execute_result"
    }
   ],
   "source": [
    "len(train_indexes), len(test_indexes)"
   ]
  },
  {
   "cell_type": "markdown",
   "metadata": {},
   "source": [
    "- Individuo registrazioni plausibili\n"
   ]
  },
  {
   "cell_type": "code",
   "execution_count": 53,
   "metadata": {},
   "outputs": [
    {
     "name": "stdout",
     "output_type": "stream",
     "text": [
      "21\n",
      "21\n"
     ]
    }
   ],
   "source": [
    "train_idx = get_correct_recordings_index(plda_vox_id)\n",
    "test_idx = get_correct_recordings_index(test_plda_vox_id)"
   ]
  },
  {
   "cell_type": "code",
   "execution_count": 54,
   "metadata": {},
   "outputs": [
    {
     "data": {
      "text/plain": [
       "(52878, 35238)"
      ]
     },
     "execution_count": 54,
     "metadata": {},
     "output_type": "execute_result"
    }
   ],
   "source": [
    "len(train_idx), len(test_idx)"
   ]
  },
  {
   "cell_type": "code",
   "execution_count": 55,
   "metadata": {},
   "outputs": [
    {
     "data": {
      "text/plain": [
       "'\\nX_train = [train_indexes]\\ncurrent_labels = current_labels[train_test_idx]\\nspk_id = np.array(spk_id)[train_test_idx]\\n'"
      ]
     },
     "execution_count": 55,
     "metadata": {},
     "output_type": "execute_result"
    }
   ],
   "source": [
    "X_train = plda_data.embeddings[train_indexes]\n",
    "X_train = X_train[train_idx]\n",
    "y_train_spk = np.array(plda_vox_id)\n",
    "y_train_spk = y_train_spk[train_idx]\n",
    "\"\"\"\n",
    "X_train = [train_indexes]\n",
    "current_labels = current_labels[train_test_idx]\n",
    "spk_id = np.array(spk_id)[train_test_idx]\n",
    "\"\"\""
   ]
  },
  {
   "cell_type": "code",
   "execution_count": 56,
   "metadata": {},
   "outputs": [],
   "source": [
    "X_test = plda_data.embeddings[test_indexes]\n",
    "X_test = X_test[test_idx]\n",
    "y_test_spk = np.array(test_plda_vox_id)\n",
    "y_test_spk = y_test_spk[test_idx]"
   ]
  },
  {
   "cell_type": "code",
   "execution_count": 57,
   "metadata": {},
   "outputs": [],
   "source": [
    "id_gender_dict = pd.Series(df.gender.values,index=df.VoxCeleb_ID).to_dict()"
   ]
  },
  {
   "cell_type": "code",
   "execution_count": 58,
   "metadata": {},
   "outputs": [],
   "source": [
    "y_train = [id_gender_dict[x] for x in y_train_spk]\n",
    "y_test = [id_gender_dict[x] for x in y_test_spk]"
   ]
  },
  {
   "cell_type": "code",
   "execution_count": 59,
   "metadata": {},
   "outputs": [
    {
     "data": {
      "text/plain": [
       "(52878, 35238)"
      ]
     },
     "execution_count": 59,
     "metadata": {},
     "output_type": "execute_result"
    }
   ],
   "source": [
    "len(y_train), len(y_test)"
   ]
  },
  {
   "cell_type": "markdown",
   "metadata": {},
   "source": [
    "It is ok that the split is done at 'y' level, however current_labels should have the same length of np.unique(speakers_ids)"
   ]
  },
  {
   "cell_type": "code",
   "execution_count": 69,
   "metadata": {},
   "outputs": [],
   "source": [
    "def train_holdout(preprocessing_strategy, model_name, train_embeddings, train_labels, test_embeddings, test_labels):\n",
    "\n",
    "    train_embeddings = train_embeddings.cuda()\n",
    "    train_labels = train_labels.cuda()\n",
    "    \n",
    "    test_embeddings = test_embeddings.cuda()\n",
    "    test_labels = test_labels.cuda()\n",
    "    \n",
    "    if preprocessing_strategy == 'cwl':\n",
    "        # Preprocess embeddings\n",
    "        vector_processor = VectorProcessor.train(train_embeddings, 'cwl', 'cuda:0')\n",
    "        train_embeddings = vector_processor.process(train_embeddings)\n",
    "        test_embeddings = vector_processor.process(test_embeddings)\n",
    "    elif preprocessing_strategy == 'wccn':\n",
    "        L = wccn(train_embeddings.cpu().numpy(), train_labels.cpu().numpy(), 0)\n",
    "        train_embeddings = torch.matmul(train_embeddings, torch.from_numpy(L).cuda().float())\n",
    "        test_embeddings = torch.matmul(test_embeddings, torch.from_numpy(L).cuda().float())\n",
    "\n",
    "\n",
    "    # Normal models\n",
    "    model, test_f1 = gender_classifier(train_embeddings,\n",
    "                      train_labels,\n",
    "                      test_embeddings,\n",
    "                      test_labels,\n",
    "                      model_name=model_name\n",
    "                       )\n",
    "    print(test_f1)\n",
    "    return model\n"
   ]
  },
  {
   "cell_type": "code",
   "execution_count": 73,
   "metadata": {},
   "outputs": [
    {
     "data": {
      "text/plain": [
       "\"\\ncombos_to_exclude = list(itertools.product(['log_reg'], norm_strat_to_evaluate, [True]))\\ntrain_combinations = list(set(train_combinations) - set(combos_to_exclude))\""
      ]
     },
     "execution_count": 73,
     "metadata": {},
     "output_type": "execute_result"
    }
   ],
   "source": [
    "models_to_evaluate = ['fc2']\n",
    "norm_strat_to_evaluate = ['']\n",
    "dropout = [False]\n",
    "batch_size = [256]\n",
    "lr = [0.001]\n",
    "epochs = [200]\n",
    "train_combinations = list(itertools.product(\n",
    "    epochs,\n",
    "    models_to_evaluate,\n",
    "    norm_strat_to_evaluate,\n",
    "    dropout,\n",
    "    batch_size,\n",
    "    lr\n",
    "))\n",
    "\"\"\"\n",
    "combos_to_exclude = list(itertools.product(['log_reg'], norm_strat_to_evaluate, [True]))\n",
    "train_combinations = list(set(train_combinations) - set(combos_to_exclude))\"\"\""
   ]
  },
  {
   "cell_type": "code",
   "execution_count": 74,
   "metadata": {},
   "outputs": [
    {
     "data": {
      "text/plain": [
       "1"
      ]
     },
     "execution_count": 74,
     "metadata": {},
     "output_type": "execute_result"
    }
   ],
   "source": [
    "len(train_combinations)"
   ]
  },
  {
   "cell_type": "markdown",
   "metadata": {},
   "source": [
    "Convert gender labels in numerical format for training reasons"
   ]
  },
  {
   "cell_type": "code",
   "execution_count": 63,
   "metadata": {},
   "outputs": [],
   "source": [
    "label_encoder = LabelEncoder()\n",
    "y_train = label_encoder.fit_transform(y_train)\n",
    "y_test = label_encoder.transform(y_test)\n",
    "y_train = torch.tensor(y_train)\n",
    "y_test = torch.tensor(y_test)"
   ]
  },
  {
   "cell_type": "code",
   "execution_count": 75,
   "metadata": {
    "scrolled": true
   },
   "outputs": [
    {
     "name": "stdout",
     "output_type": "stream",
     "text": [
      "{'batch_size': 256, 'test_batch_size': 100, 'epochs': 200, 'lr': 0.001, 'seed': 19951008, 'log_interval': 1, 'model_name': 'fc2', 'feature_norm': '', 'dropout': False, 'dataset': 'gender', 'embedding': 'x-vec', 'folder_fn': 'xvectors/log_reg/'}\n"
     ]
    },
    {
     "name": "stderr",
     "output_type": "stream",
     "text": [
      "\u001b[34m\u001b[1mwandb\u001b[0m: wandb version 0.10.24 is available!  To upgrade, please run:\n",
      "\u001b[34m\u001b[1mwandb\u001b[0m:  $ pip install wandb --upgrade\n"
     ]
    },
    {
     "data": {
      "text/html": [
       "\n",
       "                Tracking run with wandb version 0.10.13<br/>\n",
       "                Syncing run <strong style=\"color:#cdcd00\">fc2_x-vec__</strong> to <a href=\"https://wandb.ai\" target=\"_blank\">Weights & Biases</a> <a href=\"https://docs.wandb.com/integrations/jupyter.html\" target=\"_blank\">(Documentation)</a>.<br/>\n",
       "                Project page: <a href=\"https://wandb.ai/hechmik/voxceleb_enrichment\" target=\"_blank\">https://wandb.ai/hechmik/voxceleb_enrichment</a><br/>\n",
       "                Run page: <a href=\"https://wandb.ai/hechmik/voxceleb_enrichment/runs/38grmrwa\" target=\"_blank\">https://wandb.ai/hechmik/voxceleb_enrichment/runs/38grmrwa</a><br/>\n",
       "                Run data is saved locally in <code>/home/khaled/age_gender_recognition/asvtorch_modified/asvtorch/notebooks/wandb/run-20210401_181511-38grmrwa</code><br/><br/>\n",
       "            "
      ],
      "text/plain": [
       "<IPython.core.display.HTML object>"
      ]
     },
     "metadata": {},
     "output_type": "display_data"
    },
    {
     "name": "stderr",
     "output_type": "stream",
     "text": [
      "\r",
      "  0%|          | 0/200 [00:00<?, ?it/s]"
     ]
    },
    {
     "name": "stdout",
     "output_type": "stream",
     "text": [
      "Train embeddings torch.Size([52878, 512])\n"
     ]
    },
    {
     "name": "stderr",
     "output_type": "stream",
     "text": [
      "100%|██████████| 200/200 [04:14<00:00,  1.27s/it]\n"
     ]
    },
    {
     "name": "stdout",
     "output_type": "stream",
     "text": [
      "0.9776590301858906\n"
     ]
    },
    {
     "data": {
      "text/html": [
       "<br/>Waiting for W&B process to finish, PID 3481<br/>Program ended successfully."
      ],
      "text/plain": [
       "<IPython.core.display.HTML object>"
      ]
     },
     "metadata": {},
     "output_type": "display_data"
    },
    {
     "data": {
      "text/html": [
       "Find user logs for this run at: <code>/home/khaled/age_gender_recognition/asvtorch_modified/asvtorch/notebooks/wandb/run-20210401_181511-38grmrwa/logs/debug.log</code>"
      ],
      "text/plain": [
       "<IPython.core.display.HTML object>"
      ]
     },
     "metadata": {},
     "output_type": "display_data"
    },
    {
     "data": {
      "text/html": [
       "Find internal logs for this run at: <code>/home/khaled/age_gender_recognition/asvtorch_modified/asvtorch/notebooks/wandb/run-20210401_181511-38grmrwa/logs/debug-internal.log</code>"
      ],
      "text/plain": [
       "<IPython.core.display.HTML object>"
      ]
     },
     "metadata": {},
     "output_type": "display_data"
    },
    {
     "data": {
      "text/html": [
       "<h3>Run summary:</h3><br/><style>\n",
       "    table.wandb td:nth-child(1) { padding: 0 10px; text-align: right }\n",
       "    </style><table class=\"wandb\">\n",
       "<tr><td>Accuracy</td><td>0.97769</td></tr><tr><td>F1</td><td>0.97766</td></tr><tr><td>_step</td><td>0</td></tr><tr><td>_runtime</td><td>261</td></tr><tr><td>_timestamp</td><td>1617290373</td></tr></table>"
      ],
      "text/plain": [
       "<IPython.core.display.HTML object>"
      ]
     },
     "metadata": {},
     "output_type": "display_data"
    },
    {
     "data": {
      "text/html": [
       "<h3>Run history:</h3><br/><style>\n",
       "    table.wandb td:nth-child(1) { padding: 0 10px; text-align: right }\n",
       "    </style><table class=\"wandb\">\n",
       "<tr><td>Accuracy</td><td>▁</td></tr><tr><td>F1</td><td>▁</td></tr><tr><td>_step</td><td>▁</td></tr><tr><td>_runtime</td><td>▁</td></tr><tr><td>_timestamp</td><td>▁</td></tr></table><br/>"
      ],
      "text/plain": [
       "<IPython.core.display.HTML object>"
      ]
     },
     "metadata": {},
     "output_type": "display_data"
    },
    {
     "data": {
      "text/html": [
       "Synced 5 W&B file(s), 1 media file(s), 0 artifact file(s) and 0 other file(s)"
      ],
      "text/plain": [
       "<IPython.core.display.HTML object>"
      ]
     },
     "metadata": {},
     "output_type": "display_data"
    },
    {
     "data": {
      "text/html": [
       "\n",
       "                    <br/>Synced <strong style=\"color:#cdcd00\">fc2_x-vec__</strong>: <a href=\"https://wandb.ai/hechmik/voxceleb_enrichment/runs/38grmrwa\" target=\"_blank\">https://wandb.ai/hechmik/voxceleb_enrichment/runs/38grmrwa</a><br/>\n",
       "                "
      ],
      "text/plain": [
       "<IPython.core.display.HTML object>"
      ]
     },
     "metadata": {},
     "output_type": "display_data"
    }
   ],
   "source": [
    "trained_model = None\n",
    "for epoch, model, strategy, drop, bs, lr_now in train_combinations:\n",
    "    config = {\n",
    "        'batch_size' : bs,         \n",
    "        'test_batch_size' : 100,\n",
    "        'epochs' : epoch,\n",
    "        'lr' : lr_now,\n",
    "        'seed' : my_seed,\n",
    "        'log_interval' : 1,\n",
    "        'model_name' : model,\n",
    "        'feature_norm' : strategy,\n",
    "        'dropout': drop,\n",
    "        'dataset' : 'gender',\n",
    "        'embedding' : 'x-vec',\n",
    "        'folder_fn': 'xvectors/log_reg/'\n",
    "    }\n",
    "    print(config)\n",
    "\n",
    "    if drop:\n",
    "        drop_id = 'dropout'\n",
    "    else:\n",
    "        drop_id = ''\n",
    "    wandb.init(\n",
    "        project='voxceleb_enrichment',\n",
    "        name='_'.join([model,config['embedding'], strategy, drop_id]),\n",
    "        config=config\n",
    "    )\n",
    "    trained_model = train_holdout(strategy, model, X_train, y_train, X_test, y_test)\n",
    "    wandb.run.finish()"
   ]
  },
  {
   "cell_type": "code",
   "execution_count": 76,
   "metadata": {},
   "outputs": [],
   "source": [
    "! mkdir torch_models"
   ]
  },
  {
   "cell_type": "code",
   "execution_count": 77,
   "metadata": {},
   "outputs": [],
   "source": [
    "torch.save(trained_model.state_dict(), \"torch_models/xvec_fc2_model\")"
   ]
  },
  {
   "cell_type": "markdown",
   "metadata": {},
   "source": [
    "## FC4"
   ]
  },
  {
   "cell_type": "code",
   "execution_count": 81,
   "metadata": {},
   "outputs": [],
   "source": [
    "models_to_evaluate = ['fc4']\n",
    "norm_strat_to_evaluate = ['']\n",
    "dropout = [False]\n",
    "batch_size = [256]\n",
    "lr = [0.001]\n",
    "epochs = [200]\n",
    "train_combinations = list(itertools.product(\n",
    "    epochs,\n",
    "    models_to_evaluate,\n",
    "    norm_strat_to_evaluate,\n",
    "    dropout,\n",
    "    batch_size,\n",
    "    lr\n",
    "))"
   ]
  },
  {
   "cell_type": "code",
   "execution_count": 82,
   "metadata": {},
   "outputs": [
    {
     "name": "stdout",
     "output_type": "stream",
     "text": [
      "{'batch_size': 256, 'test_batch_size': 100, 'epochs': 200, 'lr': 0.001, 'seed': 19951008, 'log_interval': 1, 'model_name': 'fc4', 'feature_norm': '', 'dropout': False, 'dataset': 'gender', 'embedding': 'x-vec', 'folder_fn': 'xvectors/log_reg/'}\n"
     ]
    },
    {
     "data": {
      "text/html": [
       "Finishing last run (ID:2td980q1) before initializing another..."
      ],
      "text/plain": [
       "<IPython.core.display.HTML object>"
      ]
     },
     "metadata": {},
     "output_type": "display_data"
    },
    {
     "data": {
      "text/html": [
       "<br/>Waiting for W&B process to finish, PID 4328<br/>Program ended successfully."
      ],
      "text/plain": [
       "<IPython.core.display.HTML object>"
      ]
     },
     "metadata": {},
     "output_type": "display_data"
    },
    {
     "data": {
      "text/html": [
       "Find user logs for this run at: <code>/home/khaled/age_gender_recognition/asvtorch_modified/asvtorch/notebooks/wandb/run-20210401_181939-2td980q1/logs/debug.log</code>"
      ],
      "text/plain": [
       "<IPython.core.display.HTML object>"
      ]
     },
     "metadata": {},
     "output_type": "display_data"
    },
    {
     "data": {
      "text/html": [
       "Find internal logs for this run at: <code>/home/khaled/age_gender_recognition/asvtorch_modified/asvtorch/notebooks/wandb/run-20210401_181939-2td980q1/logs/debug-internal.log</code>"
      ],
      "text/plain": [
       "<IPython.core.display.HTML object>"
      ]
     },
     "metadata": {},
     "output_type": "display_data"
    },
    {
     "data": {
      "text/html": [
       "<h3>Run summary:</h3><br/><style>\n",
       "    table.wandb td:nth-child(1) { padding: 0 10px; text-align: right }\n",
       "    </style><table class=\"wandb\">\n",
       "<tr><td>_step</td><td>0</td></tr><tr><td>_runtime</td><td>36</td></tr><tr><td>_timestamp</td><td>1617290415</td></tr></table>"
      ],
      "text/plain": [
       "<IPython.core.display.HTML object>"
      ]
     },
     "metadata": {},
     "output_type": "display_data"
    },
    {
     "data": {
      "text/html": [
       "<h3>Run history:</h3><br/><style>\n",
       "    table.wandb td:nth-child(1) { padding: 0 10px; text-align: right }\n",
       "    </style><table class=\"wandb\">\n",
       "<tr><td>_step</td><td>▁</td></tr><tr><td>_runtime</td><td>▁</td></tr><tr><td>_timestamp</td><td>▁</td></tr></table><br/>"
      ],
      "text/plain": [
       "<IPython.core.display.HTML object>"
      ]
     },
     "metadata": {},
     "output_type": "display_data"
    },
    {
     "data": {
      "text/html": [
       "Synced 5 W&B file(s), 1 media file(s), 0 artifact file(s) and 0 other file(s)"
      ],
      "text/plain": [
       "<IPython.core.display.HTML object>"
      ]
     },
     "metadata": {},
     "output_type": "display_data"
    },
    {
     "data": {
      "text/html": [
       "\n",
       "                    <br/>Synced <strong style=\"color:#cdcd00\">log_reg_x-vec__</strong>: <a href=\"https://wandb.ai/hechmik/voxceleb_enrichment/runs/2td980q1\" target=\"_blank\">https://wandb.ai/hechmik/voxceleb_enrichment/runs/2td980q1</a><br/>\n",
       "                "
      ],
      "text/plain": [
       "<IPython.core.display.HTML object>"
      ]
     },
     "metadata": {},
     "output_type": "display_data"
    },
    {
     "data": {
      "text/html": [
       "...Successfully finished last run (ID:2td980q1). Initializing new run:<br/><br/>"
      ],
      "text/plain": [
       "<IPython.core.display.HTML object>"
      ]
     },
     "metadata": {},
     "output_type": "display_data"
    },
    {
     "name": "stderr",
     "output_type": "stream",
     "text": [
      "\u001b[34m\u001b[1mwandb\u001b[0m: wandb version 0.10.24 is available!  To upgrade, please run:\n",
      "\u001b[34m\u001b[1mwandb\u001b[0m:  $ pip install wandb --upgrade\n"
     ]
    },
    {
     "data": {
      "text/html": [
       "\n",
       "                Tracking run with wandb version 0.10.13<br/>\n",
       "                Syncing run <strong style=\"color:#cdcd00\">fc4_x-vec__</strong> to <a href=\"https://wandb.ai\" target=\"_blank\">Weights & Biases</a> <a href=\"https://docs.wandb.com/integrations/jupyter.html\" target=\"_blank\">(Documentation)</a>.<br/>\n",
       "                Project page: <a href=\"https://wandb.ai/hechmik/voxceleb_enrichment\" target=\"_blank\">https://wandb.ai/hechmik/voxceleb_enrichment</a><br/>\n",
       "                Run page: <a href=\"https://wandb.ai/hechmik/voxceleb_enrichment/runs/34cn4kib\" target=\"_blank\">https://wandb.ai/hechmik/voxceleb_enrichment/runs/34cn4kib</a><br/>\n",
       "                Run data is saved locally in <code>/home/khaled/age_gender_recognition/asvtorch_modified/asvtorch/notebooks/wandb/run-20210401_182015-34cn4kib</code><br/><br/>\n",
       "            "
      ],
      "text/plain": [
       "<IPython.core.display.HTML object>"
      ]
     },
     "metadata": {},
     "output_type": "display_data"
    },
    {
     "name": "stderr",
     "output_type": "stream",
     "text": [
      "\r",
      "  0%|          | 0/200 [00:00<?, ?it/s]"
     ]
    },
    {
     "name": "stdout",
     "output_type": "stream",
     "text": [
      "Train embeddings torch.Size([52878, 512])\n"
     ]
    },
    {
     "name": "stderr",
     "output_type": "stream",
     "text": [
      "100%|██████████| 200/200 [04:34<00:00,  1.37s/it]\n"
     ]
    },
    {
     "name": "stdout",
     "output_type": "stream",
     "text": [
      "0.9776174515707551\n"
     ]
    },
    {
     "data": {
      "text/html": [
       "<br/>Waiting for W&B process to finish, PID 4552<br/>Program ended successfully."
      ],
      "text/plain": [
       "<IPython.core.display.HTML object>"
      ]
     },
     "metadata": {},
     "output_type": "display_data"
    },
    {
     "data": {
      "text/html": [
       "Find user logs for this run at: <code>/home/khaled/age_gender_recognition/asvtorch_modified/asvtorch/notebooks/wandb/run-20210401_182015-34cn4kib/logs/debug.log</code>"
      ],
      "text/plain": [
       "<IPython.core.display.HTML object>"
      ]
     },
     "metadata": {},
     "output_type": "display_data"
    },
    {
     "data": {
      "text/html": [
       "Find internal logs for this run at: <code>/home/khaled/age_gender_recognition/asvtorch_modified/asvtorch/notebooks/wandb/run-20210401_182015-34cn4kib/logs/debug-internal.log</code>"
      ],
      "text/plain": [
       "<IPython.core.display.HTML object>"
      ]
     },
     "metadata": {},
     "output_type": "display_data"
    },
    {
     "data": {
      "text/html": [
       "<h3>Run summary:</h3><br/><style>\n",
       "    table.wandb td:nth-child(1) { padding: 0 10px; text-align: right }\n",
       "    </style><table class=\"wandb\">\n",
       "<tr><td>Accuracy</td><td>0.97764</td></tr><tr><td>F1</td><td>0.97762</td></tr><tr><td>_step</td><td>0</td></tr><tr><td>_runtime</td><td>283</td></tr><tr><td>_timestamp</td><td>1617290703</td></tr></table>"
      ],
      "text/plain": [
       "<IPython.core.display.HTML object>"
      ]
     },
     "metadata": {},
     "output_type": "display_data"
    },
    {
     "data": {
      "text/html": [
       "<h3>Run history:</h3><br/><style>\n",
       "    table.wandb td:nth-child(1) { padding: 0 10px; text-align: right }\n",
       "    </style><table class=\"wandb\">\n",
       "<tr><td>Accuracy</td><td>▁</td></tr><tr><td>F1</td><td>▁</td></tr><tr><td>_step</td><td>▁</td></tr><tr><td>_runtime</td><td>▁</td></tr><tr><td>_timestamp</td><td>▁</td></tr></table><br/>"
      ],
      "text/plain": [
       "<IPython.core.display.HTML object>"
      ]
     },
     "metadata": {},
     "output_type": "display_data"
    },
    {
     "data": {
      "text/html": [
       "Synced 5 W&B file(s), 1 media file(s), 0 artifact file(s) and 0 other file(s)"
      ],
      "text/plain": [
       "<IPython.core.display.HTML object>"
      ]
     },
     "metadata": {},
     "output_type": "display_data"
    },
    {
     "data": {
      "text/html": [
       "\n",
       "                    <br/>Synced <strong style=\"color:#cdcd00\">fc4_x-vec__</strong>: <a href=\"https://wandb.ai/hechmik/voxceleb_enrichment/runs/34cn4kib\" target=\"_blank\">https://wandb.ai/hechmik/voxceleb_enrichment/runs/34cn4kib</a><br/>\n",
       "                "
      ],
      "text/plain": [
       "<IPython.core.display.HTML object>"
      ]
     },
     "metadata": {},
     "output_type": "display_data"
    }
   ],
   "source": [
    "trained_model = None\n",
    "for epoch, model, strategy, drop, bs, lr_now in train_combinations:\n",
    "    config = {\n",
    "        'batch_size' : bs,         \n",
    "        'test_batch_size' : 100,\n",
    "        'epochs' : epoch,\n",
    "        'lr' : lr_now,\n",
    "        'seed' : my_seed,\n",
    "        'log_interval' : 1,\n",
    "        'model_name' : model,\n",
    "        'feature_norm' : strategy,\n",
    "        'dropout': drop,\n",
    "        'dataset' : 'gender',\n",
    "        'embedding' : 'x-vec',\n",
    "        'folder_fn': 'xvectors/log_reg/'\n",
    "    }\n",
    "    print(config)\n",
    "\n",
    "    if drop:\n",
    "        drop_id = 'dropout'\n",
    "    else:\n",
    "        drop_id = ''\n",
    "    wandb.init(\n",
    "        project='voxceleb_enrichment',\n",
    "        name='_'.join([model,config['embedding'], strategy, drop_id]),\n",
    "        config=config\n",
    "    )\n",
    "    trained_model = train_holdout(strategy, model, X_train, y_train, X_test, y_test)\n",
    "    wandb.run.finish()\n",
    "torch.save(trained_model.state_dict(), \"torch_models/xvec_fc4_model\")"
   ]
  },
  {
   "cell_type": "markdown",
   "metadata": {},
   "source": [
    "## Log reg"
   ]
  },
  {
   "cell_type": "code",
   "execution_count": 83,
   "metadata": {},
   "outputs": [],
   "source": [
    "models_to_evaluate = ['log_reg']\n",
    "norm_strat_to_evaluate = ['']\n",
    "dropout = [False]\n",
    "batch_size = [256]\n",
    "lr = [0.001]\n",
    "epochs = [200]\n",
    "train_combinations = list(itertools.product(\n",
    "    epochs,\n",
    "    models_to_evaluate,\n",
    "    norm_strat_to_evaluate,\n",
    "    dropout,\n",
    "    batch_size,\n",
    "    lr\n",
    "))"
   ]
  },
  {
   "cell_type": "code",
   "execution_count": 84,
   "metadata": {},
   "outputs": [
    {
     "name": "stdout",
     "output_type": "stream",
     "text": [
      "{'batch_size': 256, 'test_batch_size': 100, 'epochs': 200, 'lr': 0.001, 'seed': 19951008, 'log_interval': 1, 'model_name': 'log_reg', 'feature_norm': '', 'dropout': False, 'dataset': 'gender', 'embedding': 'x-vec', 'folder_fn': 'xvectors/log_reg/'}\n"
     ]
    },
    {
     "name": "stderr",
     "output_type": "stream",
     "text": [
      "\u001b[34m\u001b[1mwandb\u001b[0m: wandb version 0.10.24 is available!  To upgrade, please run:\n",
      "\u001b[34m\u001b[1mwandb\u001b[0m:  $ pip install wandb --upgrade\n"
     ]
    },
    {
     "data": {
      "text/html": [
       "\n",
       "                Tracking run with wandb version 0.10.13<br/>\n",
       "                Syncing run <strong style=\"color:#cdcd00\">log_reg_x-vec__</strong> to <a href=\"https://wandb.ai\" target=\"_blank\">Weights & Biases</a> <a href=\"https://docs.wandb.com/integrations/jupyter.html\" target=\"_blank\">(Documentation)</a>.<br/>\n",
       "                Project page: <a href=\"https://wandb.ai/hechmik/voxceleb_enrichment\" target=\"_blank\">https://wandb.ai/hechmik/voxceleb_enrichment</a><br/>\n",
       "                Run page: <a href=\"https://wandb.ai/hechmik/voxceleb_enrichment/runs/1r2kp6nf\" target=\"_blank\">https://wandb.ai/hechmik/voxceleb_enrichment/runs/1r2kp6nf</a><br/>\n",
       "                Run data is saved locally in <code>/home/khaled/age_gender_recognition/asvtorch_modified/asvtorch/notebooks/wandb/run-20210401_182507-1r2kp6nf</code><br/><br/>\n",
       "            "
      ],
      "text/plain": [
       "<IPython.core.display.HTML object>"
      ]
     },
     "metadata": {},
     "output_type": "display_data"
    },
    {
     "name": "stderr",
     "output_type": "stream",
     "text": [
      "\r",
      "  0%|          | 0/200 [00:00<?, ?it/s]"
     ]
    },
    {
     "name": "stdout",
     "output_type": "stream",
     "text": [
      "Train embeddings torch.Size([52878, 512])\n"
     ]
    },
    {
     "name": "stderr",
     "output_type": "stream",
     "text": [
      "100%|██████████| 200/200 [03:22<00:00,  1.01s/it]\n"
     ]
    },
    {
     "name": "stdout",
     "output_type": "stream",
     "text": [
      "0.9769451630326635\n"
     ]
    },
    {
     "data": {
      "text/html": [
       "<br/>Waiting for W&B process to finish, PID 5888<br/>Program ended successfully."
      ],
      "text/plain": [
       "<IPython.core.display.HTML object>"
      ]
     },
     "metadata": {},
     "output_type": "display_data"
    },
    {
     "data": {
      "text/html": [
       "Find user logs for this run at: <code>/home/khaled/age_gender_recognition/asvtorch_modified/asvtorch/notebooks/wandb/run-20210401_182507-1r2kp6nf/logs/debug.log</code>"
      ],
      "text/plain": [
       "<IPython.core.display.HTML object>"
      ]
     },
     "metadata": {},
     "output_type": "display_data"
    },
    {
     "data": {
      "text/html": [
       "Find internal logs for this run at: <code>/home/khaled/age_gender_recognition/asvtorch_modified/asvtorch/notebooks/wandb/run-20210401_182507-1r2kp6nf/logs/debug-internal.log</code>"
      ],
      "text/plain": [
       "<IPython.core.display.HTML object>"
      ]
     },
     "metadata": {},
     "output_type": "display_data"
    },
    {
     "data": {
      "text/html": [
       "<h3>Run summary:</h3><br/><style>\n",
       "    table.wandb td:nth-child(1) { padding: 0 10px; text-align: right }\n",
       "    </style><table class=\"wandb\">\n",
       "<tr><td>Accuracy</td><td>0.97699</td></tr><tr><td>F1</td><td>0.97695</td></tr><tr><td>_step</td><td>0</td></tr><tr><td>_runtime</td><td>210</td></tr><tr><td>_timestamp</td><td>1617290918</td></tr></table>"
      ],
      "text/plain": [
       "<IPython.core.display.HTML object>"
      ]
     },
     "metadata": {},
     "output_type": "display_data"
    },
    {
     "data": {
      "text/html": [
       "<h3>Run history:</h3><br/><style>\n",
       "    table.wandb td:nth-child(1) { padding: 0 10px; text-align: right }\n",
       "    </style><table class=\"wandb\">\n",
       "<tr><td>Accuracy</td><td>▁</td></tr><tr><td>F1</td><td>▁</td></tr><tr><td>_step</td><td>▁</td></tr><tr><td>_runtime</td><td>▁</td></tr><tr><td>_timestamp</td><td>▁</td></tr></table><br/>"
      ],
      "text/plain": [
       "<IPython.core.display.HTML object>"
      ]
     },
     "metadata": {},
     "output_type": "display_data"
    },
    {
     "data": {
      "text/html": [
       "Synced 5 W&B file(s), 1 media file(s), 0 artifact file(s) and 0 other file(s)"
      ],
      "text/plain": [
       "<IPython.core.display.HTML object>"
      ]
     },
     "metadata": {},
     "output_type": "display_data"
    },
    {
     "data": {
      "text/html": [
       "\n",
       "                    <br/>Synced <strong style=\"color:#cdcd00\">log_reg_x-vec__</strong>: <a href=\"https://wandb.ai/hechmik/voxceleb_enrichment/runs/1r2kp6nf\" target=\"_blank\">https://wandb.ai/hechmik/voxceleb_enrichment/runs/1r2kp6nf</a><br/>\n",
       "                "
      ],
      "text/plain": [
       "<IPython.core.display.HTML object>"
      ]
     },
     "metadata": {},
     "output_type": "display_data"
    }
   ],
   "source": [
    "trained_model = None\n",
    "for epoch, model, strategy, drop, bs, lr_now in train_combinations:\n",
    "    config = {\n",
    "        'batch_size' : bs,         \n",
    "        'test_batch_size' : 100,\n",
    "        'epochs' : epoch,\n",
    "        'lr' : lr_now,\n",
    "        'seed' : my_seed,\n",
    "        'log_interval' : 1,\n",
    "        'model_name' : model,\n",
    "        'feature_norm' : strategy,\n",
    "        'dropout': drop,\n",
    "        'dataset' : 'gender',\n",
    "        'embedding' : 'x-vec',\n",
    "        'folder_fn': 'xvectors/log_reg/'\n",
    "    }\n",
    "    print(config)\n",
    "\n",
    "    if drop:\n",
    "        drop_id = 'dropout'\n",
    "    else:\n",
    "        drop_id = ''\n",
    "    wandb.init(\n",
    "        project='voxceleb_enrichment',\n",
    "        name='_'.join([model,config['embedding'], strategy, drop_id]),\n",
    "        config=config\n",
    "    )\n",
    "    trained_model = train_holdout(strategy, model, X_train, y_train, X_test, y_test)\n",
    "    wandb.run.finish()\n",
    "torch.save(trained_model.state_dict(), \"torch_models/xvec_log_reg_model\")"
   ]
  },
  {
   "cell_type": "code",
   "execution_count": null,
   "metadata": {},
   "outputs": [],
   "source": []
  }
 ],
 "metadata": {
  "kernelspec": {
   "display_name": "asvtorch",
   "language": "python",
   "name": "asvtorch"
  },
  "language_info": {
   "codemirror_mode": {
    "name": "ipython",
    "version": 3
   },
   "file_extension": ".py",
   "mimetype": "text/x-python",
   "name": "python",
   "nbconvert_exporter": "python",
   "pygments_lexer": "ipython3",
   "version": "3.7.9"
  }
 },
 "nbformat": 4,
 "nbformat_minor": 2
}
