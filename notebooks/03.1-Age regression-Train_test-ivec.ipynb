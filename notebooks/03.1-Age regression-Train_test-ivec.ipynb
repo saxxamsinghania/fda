{
 "cells": [
  {
   "cell_type": "markdown",
   "metadata": {},
   "source": [
    "# Fix seed for reproducibility"
   ]
  },
  {
   "cell_type": "code",
   "execution_count": 1,
   "metadata": {},
   "outputs": [
    {
     "data": {
      "text/plain": [
       "<torch._C.Generator at 0x7fb6d9945f30>"
      ]
     },
     "execution_count": 1,
     "metadata": {},
     "output_type": "execute_result"
    }
   ],
   "source": [
    "my_seed=19951008\n",
    "from numpy.random import seed\n",
    "seed(my_seed)\n",
    "from tensorflow import random\n",
    "random.set_seed(my_seed)\n",
    "import torch\n",
    "torch.manual_seed(my_seed)\n",
    "#torch.set_deterministic(True)"
   ]
  },
  {
   "cell_type": "markdown",
   "metadata": {},
   "source": [
    "# Import libraries"
   ]
  },
  {
   "cell_type": "code",
   "execution_count": 2,
   "metadata": {},
   "outputs": [
    {
     "name": "stdout",
     "output_type": "stream",
     "text": [
      "asvtorch  asvtorch_modified  src\r\n"
     ]
    }
   ],
   "source": [
    "! ls ../../.."
   ]
  },
  {
   "cell_type": "code",
   "execution_count": 3,
   "metadata": {},
   "outputs": [],
   "source": [
    "import json\n",
    "from sklearn.preprocessing import LabelEncoder\n",
    "from sklearn.model_selection import KFold\n",
    "import sys\n",
    "sys.path.append(\"../../../asvtorch\")\n",
    "sys.path.append(\"../../../asvtorch/asvtorch\")\n",
    "from src.utterances.utterance_list import UtteranceList\n",
    "import numpy as np\n",
    "from asvtorch.src.backend.vector_processing import VectorProcessor\n",
    "import itertools\n",
    "import wandb"
   ]
  },
  {
   "cell_type": "markdown",
   "metadata": {},
   "source": [
    "# Choose representation"
   ]
  },
  {
   "cell_type": "code",
   "execution_count": 4,
   "metadata": {},
   "outputs": [
    {
     "name": "stdout",
     "output_type": "stream",
     "text": [
      "total 2,2G\r\n",
      "-rw-rw-r-- 1 khaled khaled 2,2G huhti  1 07:13 trial_ivectors.pickle\r\n"
     ]
    }
   ],
   "source": [
    "! ls -lh /media/hdd1/khaled/voxceleb_ivector_outputs-correct/ivector_400/utterances"
   ]
  },
  {
   "cell_type": "code",
   "execution_count": 5,
   "metadata": {},
   "outputs": [],
   "source": [
    "folder = \"/media/hdd1/khaled/voxceleb_ivector_outputs-correct/ivector_400/utterances/\"\n",
    "label = \"trial_ivectors\""
   ]
  },
  {
   "cell_type": "markdown",
   "metadata": {},
   "source": [
    "# Load and prepare data"
   ]
  },
  {
   "cell_type": "code",
   "execution_count": 6,
   "metadata": {},
   "outputs": [
    {
     "name": "stdout",
     "output_type": "stream",
     "text": [
      "Loading: /media/hdd1/khaled/voxceleb_ivector_outputs-correct/ivector_400/utterances/trial_ivectors.pickle\n",
      "Loaded (45.412 s): /media/hdd1/khaled/voxceleb_ivector_outputs-correct/ivector_400/utterances/trial_ivectors.pickle\n",
      "CPU times: user 26.6 s, sys: 13.2 s, total: 39.9 s\n",
      "Wall time: 45.4 s\n"
     ]
    }
   ],
   "source": [
    "%%time\n",
    "plda_data = UtteranceList.load(label, folder)"
   ]
  },
  {
   "cell_type": "code",
   "execution_count": 7,
   "metadata": {
    "scrolled": true
   },
   "outputs": [
    {
     "data": {
      "text/html": [
       "<div>\n",
       "<style scoped>\n",
       "    .dataframe tbody tr th:only-of-type {\n",
       "        vertical-align: middle;\n",
       "    }\n",
       "\n",
       "    .dataframe tbody tr th {\n",
       "        vertical-align: top;\n",
       "    }\n",
       "\n",
       "    .dataframe thead th {\n",
       "        text-align: right;\n",
       "    }\n",
       "</style>\n",
       "<table border=\"1\" class=\"dataframe\">\n",
       "  <thead>\n",
       "    <tr style=\"text-align: right;\">\n",
       "      <th></th>\n",
       "      <th>speaker_age</th>\n",
       "      <th>birth_year</th>\n",
       "      <th>Name</th>\n",
       "      <th>VoxCeleb_ID</th>\n",
       "      <th>video_id</th>\n",
       "    </tr>\n",
       "  </thead>\n",
       "  <tbody>\n",
       "    <tr>\n",
       "      <th>0</th>\n",
       "      <td>44.0</td>\n",
       "      <td>1969.0</td>\n",
       "      <td>David_Boreanaz</td>\n",
       "      <td>id02022</td>\n",
       "      <td>Ahk1sThoa0c</td>\n",
       "    </tr>\n",
       "    <tr>\n",
       "      <th>1</th>\n",
       "      <td>67.0</td>\n",
       "      <td>1945.0</td>\n",
       "      <td>Ibrahim_Boubacar_Keïta</td>\n",
       "      <td>id03530</td>\n",
       "      <td>ndYJV-_3wT0</td>\n",
       "    </tr>\n",
       "    <tr>\n",
       "      <th>2</th>\n",
       "      <td>57.0</td>\n",
       "      <td>1955.0</td>\n",
       "      <td>Lena_Adelsohn_Liljeroth</td>\n",
       "      <td>id05103</td>\n",
       "      <td>grAhHj9q1K8</td>\n",
       "    </tr>\n",
       "    <tr>\n",
       "      <th>3</th>\n",
       "      <td>57.0</td>\n",
       "      <td>1959.0</td>\n",
       "      <td>Marisol_Touraine</td>\n",
       "      <td>id05666</td>\n",
       "      <td>BtjJl0sUac8</td>\n",
       "    </tr>\n",
       "    <tr>\n",
       "      <th>4</th>\n",
       "      <td>45.0</td>\n",
       "      <td>1972.0</td>\n",
       "      <td>Paul_Dickov</td>\n",
       "      <td>id06839</td>\n",
       "      <td>dVV1uvOhAn8</td>\n",
       "    </tr>\n",
       "  </tbody>\n",
       "</table>\n",
       "</div>"
      ],
      "text/plain": [
       "   speaker_age  birth_year                     Name VoxCeleb_ID     video_id\n",
       "0         44.0      1969.0           David_Boreanaz     id02022  Ahk1sThoa0c\n",
       "1         67.0      1945.0   Ibrahim_Boubacar_Keïta     id03530  ndYJV-_3wT0\n",
       "2         57.0      1955.0  Lena_Adelsohn_Liljeroth     id05103  grAhHj9q1K8\n",
       "3         57.0      1959.0         Marisol_Touraine     id05666  BtjJl0sUac8\n",
       "4         45.0      1972.0              Paul_Dickov     id06839  dVV1uvOhAn8"
      ]
     },
     "execution_count": 7,
     "metadata": {},
     "output_type": "execute_result"
    }
   ],
   "source": [
    "import pandas as pd\n",
    "train_metadata = pd.read_csv('age-train.txt')\n",
    "train_metadata.head()"
   ]
  },
  {
   "cell_type": "code",
   "execution_count": 8,
   "metadata": {},
   "outputs": [
    {
     "data": {
      "text/html": [
       "<div>\n",
       "<style scoped>\n",
       "    .dataframe tbody tr th:only-of-type {\n",
       "        vertical-align: middle;\n",
       "    }\n",
       "\n",
       "    .dataframe tbody tr th {\n",
       "        vertical-align: top;\n",
       "    }\n",
       "\n",
       "    .dataframe thead th {\n",
       "        text-align: right;\n",
       "    }\n",
       "</style>\n",
       "<table border=\"1\" class=\"dataframe\">\n",
       "  <thead>\n",
       "    <tr style=\"text-align: right;\">\n",
       "      <th></th>\n",
       "      <th>speaker_age</th>\n",
       "      <th>birth_year</th>\n",
       "      <th>Name</th>\n",
       "      <th>VoxCeleb_ID</th>\n",
       "      <th>video_id</th>\n",
       "    </tr>\n",
       "  </thead>\n",
       "  <tbody>\n",
       "    <tr>\n",
       "      <th>0</th>\n",
       "      <td>26.0</td>\n",
       "      <td>1987.0</td>\n",
       "      <td>Arnd_Peiffer</td>\n",
       "      <td>id00778</td>\n",
       "      <td>DoazlQs250s</td>\n",
       "    </tr>\n",
       "    <tr>\n",
       "      <th>1</th>\n",
       "      <td>20.0</td>\n",
       "      <td>1995.0</td>\n",
       "      <td>Luke_Shaw</td>\n",
       "      <td>id05351</td>\n",
       "      <td>axdSgSJ2FFc</td>\n",
       "    </tr>\n",
       "    <tr>\n",
       "      <th>2</th>\n",
       "      <td>35.0</td>\n",
       "      <td>1979.0</td>\n",
       "      <td>Rose_Byrne</td>\n",
       "      <td>id07564</td>\n",
       "      <td>S-A97trX5Aw</td>\n",
       "    </tr>\n",
       "    <tr>\n",
       "      <th>3</th>\n",
       "      <td>42.0</td>\n",
       "      <td>1971.0</td>\n",
       "      <td>Bobby_Jindal</td>\n",
       "      <td>id01121</td>\n",
       "      <td>LLgaXyzg3-A</td>\n",
       "    </tr>\n",
       "    <tr>\n",
       "      <th>4</th>\n",
       "      <td>29.0</td>\n",
       "      <td>1984.0</td>\n",
       "      <td>Ryan_Lochte</td>\n",
       "      <td>id07643</td>\n",
       "      <td>VyPP1t5ZVb8</td>\n",
       "    </tr>\n",
       "  </tbody>\n",
       "</table>\n",
       "</div>"
      ],
      "text/plain": [
       "   speaker_age  birth_year          Name VoxCeleb_ID     video_id\n",
       "0         26.0      1987.0  Arnd_Peiffer     id00778  DoazlQs250s\n",
       "1         20.0      1995.0     Luke_Shaw     id05351  axdSgSJ2FFc\n",
       "2         35.0      1979.0    Rose_Byrne     id07564  S-A97trX5Aw\n",
       "3         42.0      1971.0  Bobby_Jindal     id01121  LLgaXyzg3-A\n",
       "4         29.0      1984.0   Ryan_Lochte     id07643  VyPP1t5ZVb8"
      ]
     },
     "execution_count": 8,
     "metadata": {},
     "output_type": "execute_result"
    }
   ],
   "source": [
    "test_metadata = pd.read_csv('age-test.txt')\n",
    "test_metadata.head()"
   ]
  },
  {
   "cell_type": "code",
   "execution_count": 9,
   "metadata": {},
   "outputs": [],
   "source": [
    "train_metadata['vox_yt_ids'] = train_metadata['VoxCeleb_ID'] + '-' + train_metadata['video_id']\n",
    "train_vox_yt = list(train_metadata.vox_yt_ids)"
   ]
  },
  {
   "cell_type": "code",
   "execution_count": 10,
   "metadata": {},
   "outputs": [],
   "source": [
    "test_metadata['vox_yt_ids'] = test_metadata['VoxCeleb_ID'] + '-' + test_metadata['video_id']\n",
    "test_vox_yt = list(test_metadata.vox_yt_ids)"
   ]
  },
  {
   "cell_type": "code",
   "execution_count": 11,
   "metadata": {},
   "outputs": [
    {
     "data": {
      "text/plain": [
       "(1690, 1127)"
      ]
     },
     "execution_count": 11,
     "metadata": {},
     "output_type": "execute_result"
    }
   ],
   "source": [
    "len(train_vox_yt), len(test_vox_yt)"
   ]
  },
  {
   "cell_type": "code",
   "execution_count": 12,
   "metadata": {},
   "outputs": [
    {
     "name": "stderr",
     "output_type": "stream",
     "text": [
      "100%|██████████| 1128702/1128702 [01:34<00:00, 11909.07it/s]"
     ]
    },
    {
     "name": "stdout",
     "output_type": "stream",
     "text": [
      "CPU times: user 1min 31s, sys: 2.29 s, total: 1min 34s\n",
      "Wall time: 1min 35s\n"
     ]
    },
    {
     "name": "stderr",
     "output_type": "stream",
     "text": [
      "\n"
     ]
    }
   ],
   "source": [
    "%%time\n",
    "from tqdm import tqdm\n",
    "train_indexes = []\n",
    "plda_vox_yt_id = []\n",
    "test_indexes = []\n",
    "test_plda_vox_yt_id = []\n",
    "for i, voxID_video_id in enumerate(tqdm(plda_data.get_utt_labels())):\n",
    "    # Let's now remove the \"recording\" info from voxID-YT id\n",
    "    current_id = \"-\".join(voxID_video_id.split(\"-\")[0:-1])\n",
    "\n",
    "    if current_id in train_vox_yt:\n",
    "        train_indexes.append(i)\n",
    "        plda_vox_yt_id.append(current_id)\n",
    "    elif current_id in test_vox_yt:\n",
    "        test_indexes.append(i)\n",
    "        test_plda_vox_yt_id.append(current_id)"
   ]
  },
  {
   "cell_type": "code",
   "execution_count": 13,
   "metadata": {},
   "outputs": [
    {
     "data": {
      "text/plain": [
       "(12722, 8602)"
      ]
     },
     "execution_count": 13,
     "metadata": {},
     "output_type": "execute_result"
    }
   ],
   "source": [
    "len(plda_vox_yt_id), len(test_plda_vox_yt_id)"
   ]
  },
  {
   "cell_type": "code",
   "execution_count": 14,
   "metadata": {},
   "outputs": [
    {
     "name": "stdout",
     "output_type": "stream",
     "text": [
      "CPU times: user 20 s, sys: 932 ms, total: 20.9 s\n",
      "Wall time: 20.9 s\n"
     ]
    }
   ],
   "source": [
    "%%time\n",
    "train_utt_labels = np.array(plda_data.get_utt_labels())[train_indexes]\n",
    "train_vectors = plda_data.embeddings[train_indexes]\n",
    "test_utt_labels = np.array(plda_data.get_utt_labels())[test_indexes]\n",
    "test_vectors = plda_data.embeddings[test_indexes]\n",
    "y = []\n",
    "y_test = []\n",
    "for x in plda_vox_yt_id:\n",
    "    speaker_age = train_metadata[train_metadata['vox_yt_ids'] == x].speaker_age.item()\n",
    "    y.append(speaker_age)\n",
    "for x in test_plda_vox_yt_id:\n",
    "    speaker_age = test_metadata[test_metadata['vox_yt_ids'] == x].speaker_age.item()\n",
    "    y_test.append(speaker_age)"
   ]
  },
  {
   "cell_type": "code",
   "execution_count": 15,
   "metadata": {},
   "outputs": [],
   "source": [
    "def get_correct_recordings_index(spk_labels, compute_least_freq=True):\n",
    "    print(\"get_correct_recordings_index >>>\")\n",
    "    print(\"compute least freq:\", compute_least_freq)\n",
    "    if compute_least_freq:\n",
    "        spk_labels_dict = {i:spk_labels.count(i) for i in set(spk_labels)}\n",
    "        least_freq_spk = min(list(spk_labels_dict.values()))\n",
    "    else:\n",
    "        least_freq_spk = 1\n",
    "    print(\"Least freq:\", least_freq_spk)\n",
    "    speaker_indexes = []\n",
    "    frequency_spk_labels_dict = {}\n",
    "    for x in set(spk_labels):\n",
    "        frequency_spk_labels_dict[x] = 0\n",
    "    for index, spk_id in enumerate(spk_labels):\n",
    "        frequency_spk_labels_dict[spk_id] += 1\n",
    "        if frequency_spk_labels_dict[spk_id] > least_freq_spk:\n",
    "            next\n",
    "        else:\n",
    "            speaker_indexes.append(index)\n",
    "    print(\"get_correct_recordings_index <<<\")\n",
    "    return speaker_indexes"
   ]
  },
  {
   "cell_type": "code",
   "execution_count": 16,
   "metadata": {},
   "outputs": [],
   "source": [
    "unbalanced = True\n",
    "if unbalanced:\n",
    "    y = np.array(y)\n",
    "    X = train_vectors\n",
    "    y_test = np.array(y_test)\n",
    "    X_test = test_vectors\n",
    "else:\n",
    "    #- Filtro registrazioni in modo da avere medesimo numero\n",
    "    # - Faccio CV\n",
    "    balanced_recordings_indexes = get_correct_recordings_index(plda_vox_yt_id)\n",
    "    y = np.array(y)[balanced_recordings_indexes]\n",
    "    X = train_vectors[balanced_recordings_indexes]\n",
    "np.savetxt(\"final_results_age/\" + 'train-y_true' + '.txt', np.array(y))"
   ]
  },
  {
   "cell_type": "code",
   "execution_count": 17,
   "metadata": {},
   "outputs": [],
   "source": [
    "import scipy.linalg\n",
    "def wccn(X, y, alpha, smooth=False, num_bins = 2):\n",
    "    if num_bins >= 2:\n",
    "        \n",
    "        quantile = 100/num_bins\n",
    "\n",
    "        if config['overlap_bin']:\n",
    "            previous_threshold= (0,0)\n",
    "            age_thresholds = []\n",
    "            overlapping_age = config['age_overlap']\n",
    "            for i in range(num_bins+1):\n",
    "                if previous_threshold == (0,0):\n",
    "                    current_threshold = (0, np.percentile(y,i*quantile))\n",
    "                else:\n",
    "                    current_threshold = (previous_threshold[1] - overlapping_age,  np.percentile(y,i*quantile))\n",
    "                age_thresholds.append(current_threshold)\n",
    "                previous_threshold = current_threshold\n",
    "        else:\n",
    "            age_thresholds = [(\n",
    "                np.percentile(y ,i * quantile),\n",
    "                np.percentile(y, (i + 1) * quantile)\n",
    "            ) for i in range(num_bins)]\n",
    "        \n",
    "        obs = [X[(y <= up) & (y > low), :] for low,up in age_thresholds]\n",
    "        W = np.zeros((X.shape[1], X.shape[1]))\n",
    "        for w in obs:\n",
    "            W = W + np.cov(w, rowvar=False, ddof=0)/(w.shape[0])\n",
    "        W = W /len(obs)\n",
    "        L = scipy.linalg.cholesky(np.linalg.inv(W), lower=True)\n",
    "        return L\n",
    "    else:\n",
    "        print(\"Impossible to apply wccn!\")"
   ]
  },
  {
   "cell_type": "code",
   "execution_count": 18,
   "metadata": {},
   "outputs": [
    {
     "data": {
      "text/plain": [
       "(torch.Size([12722, 400]), (12722,))"
      ]
     },
     "execution_count": 18,
     "metadata": {},
     "output_type": "execute_result"
    }
   ],
   "source": [
    "X.shape, y.shape,"
   ]
  },
  {
   "cell_type": "code",
   "execution_count": 19,
   "metadata": {},
   "outputs": [],
   "source": [
    "from sklearn.model_selection import StratifiedKFold\n",
    "import sklearn.linear_model"
   ]
  },
  {
   "cell_type": "code",
   "execution_count": 20,
   "metadata": {},
   "outputs": [],
   "source": [
    "vox_ids = [x.split(\"-\")[0] for x in plda_vox_yt_id]"
   ]
  },
  {
   "cell_type": "code",
   "execution_count": 21,
   "metadata": {},
   "outputs": [],
   "source": [
    "del plda_data"
   ]
  },
  {
   "cell_type": "code",
   "execution_count": 22,
   "metadata": {},
   "outputs": [],
   "source": [
    "def final_eval(X_train, y_train, preprocessing_strategy, model_name, spk_labels):\n",
    "    X_train = X_train.cuda()\n",
    "    \"\"\"\n",
    "    #kfold = sklearn.model_selection.KFold(n_splits=k, shuffle=True, random_state=config['seed'])\n",
    "    unique_labels = list(set(spk_labels))\n",
    "    unique_labels = np.array(unique_labels)\n",
    "\n",
    "    \n",
    "    train_labels = unique_labels\n",
    "    \n",
    "    if unbalanced:\n",
    "        idx_train = [i for i, x in enumerate(spk_labels) if x in train_labels] \n",
    "    else:\n",
    "        idx_train = train_index\n",
    "    \"\"\"\n",
    "\n",
    "    # Filter train and test\n",
    "    train_embeddings = X_train\n",
    "    y_train = y\n",
    "\n",
    "    if preprocessing_strategy == 'cwl':           \n",
    "        vector_processor = VectorProcessor.train(train_embeddings, 'cwl', 'cuda:0')\n",
    "        train_embeddings = vector_processor.process(train_embeddings)\n",
    "        test_embeddings = vector_processor.process(test_embeddings)\n",
    "    elif preprocessing_strategy == 'wccn':\n",
    "        L = wccn(train_embeddings.cpu().numpy(), y_train, 0, num_bins=config['num_bins'])\n",
    "        train_embeddings = torch.matmul(train_embeddings, torch.from_numpy(L).cuda().float())\n",
    "        test_embeddings = torch.matmul(test_embeddings, torch.from_numpy(L).cuda().float())\n",
    "    elif preprocessing_strategy == 'pca':\n",
    "        from sklearn.decomposition import PCA\n",
    "        pca = PCA(n_components=int(train_embeddings.shape[1]/2))\n",
    "        train_embeddings = pca.fit_transform(train_embeddings.cpu().numpy())\n",
    "        test_embeddings = pca.transform(test_embeddings.cpu().numpy())\n",
    "\n",
    "    #folder = config['folder_fn'] + config['embedding'] + '_'\n",
    "    #np.savetxt(folder + model_name + 'y_true' + config['timestamp'] + '.txt', np.array(y_test))\n",
    "\n",
    "\n",
    "    if preprocessing_strategy != 'pca':\n",
    "        train_embeddings = train_embeddings.cpu().numpy()\n",
    "        #test_embeddings = test_embeddings.cpu().numpy()\n",
    "    if model_name in ['cnn', 'cnn_increasing_conv']:\n",
    "        train_embeddings = train_embeddings.reshape(train_embeddings.shape[0], train_embeddings.shape[1], 1)\n",
    "        #test_embeddings = test_embeddings.reshape(test_embeddings.shape[0], test_embeddings.shape[1], 1)\n",
    "        if model_name == 'cnn':\n",
    "            model = basic_cnn(\n",
    "                input_shape=(train_embeddings.shape[1], 1),\n",
    "                apply_dropout=config['dropout']\n",
    "                             )\n",
    "        else:\n",
    "            model = cnn_increasing_conv(\n",
    "                input_shape=(train_embeddings.shape[1], 1),\n",
    "                apply_dropout=config['dropout'])\n",
    "        model_callbacks = [\n",
    "            WandbCallback(),\n",
    "            EarlyStopping(\n",
    "                         monitor='val_loss',\n",
    "                         patience=config['patience'],\n",
    "                         verbose=0,\n",
    "                         mode='auto',\n",
    "                         baseline=None,\n",
    "                         restore_best_weights=True)\n",
    "        ] \n",
    "        model.fit(train_embeddings,\n",
    "                  y_train,\n",
    "                  #validation_data=(test_embeddings, y_test),\n",
    "                  batch_size=config['batch_size'],\n",
    "                  epochs=config['epochs'],\n",
    "                  verbose=1,\n",
    "                  callbacks=model_callbacks\n",
    "                 )\n",
    "    elif model_name == 'lm':\n",
    "        model = sklearn.linear_model.LinearRegression().fit(train_embeddings, y_train)\n",
    "    elif model_name == 'lasso':\n",
    "        model = sklearn.linear_model.LassoCV(\n",
    "            max_iter=50000,\n",
    "            tol=0.005,\n",
    "            normalize=True,\n",
    "            n_jobs=-1).fit(train_embeddings, y_train)\n",
    "    elif model_name == 'ridge':\n",
    "        model = sklearn.linear_model.RidgeCV(normalize=True).fit(train_embeddings, y_train)\n",
    "    elif model_name == 'svr_rbf':\n",
    "        model = sklearn.svm.SVR().fit(train_embeddings, y_train)\n",
    "    elif model_name == 'svr_poly':\n",
    "        model = sklearn.svm.SVR(kernel='poly').fit(train_embeddings, y_train)\n",
    "    elif model_name == 'svr_lin':\n",
    "        model = sklearn.svm.SVR(kernel='linear').fit(train_embeddings, y_train)\n",
    "    elif model_name == 'svr_sigm':\n",
    "        model = sklearn.svm.SVR(kernel='sigmoid').fit(train_embeddings, y_train)\n",
    "    y_pred = model.predict(train_embeddings)\n",
    "    train_mae = sklearn.metrics.mean_absolute_error(y_pred=y_pred, y_true=y_train)\n",
    "    mae_per_obs = np.abs(y_pred - y_train)\n",
    "    std_mae = np.std(mae_per_obs)\n",
    "    wandb.log(\n",
    "        {\n",
    "            'Train MAE': train_mae,\n",
    "            'Scenario': 'test_mode',\n",
    "            'train_std_mae': std_mae\n",
    "\n",
    "        }\n",
    "    )\n",
    "    return model\n"
   ]
  },
  {
   "cell_type": "code",
   "execution_count": 23,
   "metadata": {},
   "outputs": [
    {
     "name": "stdout",
     "output_type": "stream",
     "text": [
      "get_correct_recordings_index >>>\n",
      "compute least freq: True\n",
      "Least freq: 1\n",
      "get_correct_recordings_index <<<\n"
     ]
    },
    {
     "data": {
      "text/plain": [
       "(1127, 400)"
      ]
     },
     "execution_count": 23,
     "metadata": {},
     "output_type": "execute_result"
    }
   ],
   "source": [
    "test_vox_ids = [x.split(\"-\")[0] for x in test_plda_vox_yt_id]\n",
    "idx_test_balanced = get_correct_recordings_index(test_vox_ids, compute_least_freq=True)\n",
    "X_test = X_test[idx_test_balanced]\n",
    "X_test = X_test.cpu().numpy()\n",
    "y_test = y_test[idx_test_balanced]\n",
    "X_test.shape"
   ]
  },
  {
   "cell_type": "markdown",
   "metadata": {},
   "source": [
    "# TRAINING and TEST section\n",
    "## UNBALANCED - RIDGE"
   ]
  },
  {
   "cell_type": "code",
   "execution_count": 24,
   "metadata": {},
   "outputs": [
    {
     "name": "stderr",
     "output_type": "stream",
     "text": [
      "Failed to query for notebook name, you can set it manually with the WANDB_NOTEBOOK_NAME environment variable\n",
      "\u001b[34m\u001b[1mwandb\u001b[0m: Currently logged in as: \u001b[33mhechmik\u001b[0m (use `wandb login --relogin` to force relogin)\n",
      "\u001b[34m\u001b[1mwandb\u001b[0m: wandb version 0.10.24 is available!  To upgrade, please run:\n",
      "\u001b[34m\u001b[1mwandb\u001b[0m:  $ pip install wandb --upgrade\n"
     ]
    },
    {
     "data": {
      "text/html": [
       "\n",
       "                Tracking run with wandb version 0.10.13<br/>\n",
       "                Syncing run <strong style=\"color:#cdcd00\">ridge_i-vec_</strong> to <a href=\"https://wandb.ai\" target=\"_blank\">Weights & Biases</a> <a href=\"https://docs.wandb.com/integrations/jupyter.html\" target=\"_blank\">(Documentation)</a>.<br/>\n",
       "                Project page: <a href=\"https://wandb.ai/hechmik/voxceleb_enrichment\" target=\"_blank\">https://wandb.ai/hechmik/voxceleb_enrichment</a><br/>\n",
       "                Run page: <a href=\"https://wandb.ai/hechmik/voxceleb_enrichment/runs/1y03l2bi\" target=\"_blank\">https://wandb.ai/hechmik/voxceleb_enrichment/runs/1y03l2bi</a><br/>\n",
       "                Run data is saved locally in <code>/home/khaled/age_gender_recognition/asvtorch_modified/asvtorch/notebooks/wandb/run-20210401_091925-1y03l2bi</code><br/><br/>\n",
       "            "
      ],
      "text/plain": [
       "<IPython.core.display.HTML object>"
      ]
     },
     "metadata": {},
     "output_type": "display_data"
    },
    {
     "data": {
      "text/html": [
       "<br/>Waiting for W&B process to finish, PID 23382<br/>Program ended successfully."
      ],
      "text/plain": [
       "<IPython.core.display.HTML object>"
      ]
     },
     "metadata": {},
     "output_type": "display_data"
    },
    {
     "data": {
      "text/html": [
       "Find user logs for this run at: <code>/home/khaled/age_gender_recognition/asvtorch_modified/asvtorch/notebooks/wandb/run-20210401_091925-1y03l2bi/logs/debug.log</code>"
      ],
      "text/plain": [
       "<IPython.core.display.HTML object>"
      ]
     },
     "metadata": {},
     "output_type": "display_data"
    },
    {
     "data": {
      "text/html": [
       "Find internal logs for this run at: <code>/home/khaled/age_gender_recognition/asvtorch_modified/asvtorch/notebooks/wandb/run-20210401_091925-1y03l2bi/logs/debug-internal.log</code>"
      ],
      "text/plain": [
       "<IPython.core.display.HTML object>"
      ]
     },
     "metadata": {},
     "output_type": "display_data"
    },
    {
     "data": {
      "text/html": [
       "<h3>Run summary:</h3><br/><style>\n",
       "    table.wandb td:nth-child(1) { padding: 0 10px; text-align: right }\n",
       "    </style><table class=\"wandb\">\n",
       "<tr><td>Train MAE</td><td>7.80493</td></tr><tr><td>Scenario</td><td>test_mode</td></tr><tr><td>train_std_mae</td><td>6.13329</td></tr><tr><td>_step</td><td>0</td></tr><tr><td>_runtime</td><td>55</td></tr><tr><td>_timestamp</td><td>1617258021</td></tr></table>"
      ],
      "text/plain": [
       "<IPython.core.display.HTML object>"
      ]
     },
     "metadata": {},
     "output_type": "display_data"
    },
    {
     "data": {
      "text/html": [
       "<h3>Run history:</h3><br/><style>\n",
       "    table.wandb td:nth-child(1) { padding: 0 10px; text-align: right }\n",
       "    </style><table class=\"wandb\">\n",
       "<tr><td>Train MAE</td><td>▁</td></tr><tr><td>train_std_mae</td><td>▁</td></tr><tr><td>_step</td><td>▁</td></tr><tr><td>_runtime</td><td>▁</td></tr><tr><td>_timestamp</td><td>▁</td></tr></table><br/>"
      ],
      "text/plain": [
       "<IPython.core.display.HTML object>"
      ]
     },
     "metadata": {},
     "output_type": "display_data"
    },
    {
     "data": {
      "text/html": [
       "Synced 4 W&B file(s), 0 media file(s), 0 artifact file(s) and 0 other file(s)"
      ],
      "text/plain": [
       "<IPython.core.display.HTML object>"
      ]
     },
     "metadata": {},
     "output_type": "display_data"
    },
    {
     "data": {
      "text/html": [
       "\n",
       "                    <br/>Synced <strong style=\"color:#cdcd00\">ridge_i-vec_</strong>: <a href=\"https://wandb.ai/hechmik/voxceleb_enrichment/runs/1y03l2bi\" target=\"_blank\">https://wandb.ai/hechmik/voxceleb_enrichment/runs/1y03l2bi</a><br/>\n",
       "                "
      ],
      "text/plain": [
       "<IPython.core.display.HTML object>"
      ]
     },
     "metadata": {},
     "output_type": "display_data"
    }
   ],
   "source": [
    "model='ridge'\n",
    "strategy=''\n",
    "n_bin=None\n",
    "overlap=None\n",
    "age=None\n",
    "import time\n",
    "timestr = time.strftime(\"%Y%m%d-%H%M%S\")\n",
    "config = {\n",
    "    'seed' : 19951008,\n",
    "    'log_interval' : 1,\n",
    "    'model_name' : model,\n",
    "    'feature_norm' : strategy,\n",
    "    'num_bins': n_bin,\n",
    "    'overlap_bin': overlap,\n",
    "    'age_overlap': age,\n",
    "    'dropout': None,\n",
    "    'dataset' : 'age',\n",
    "    'embedding' : 'i-vec',\n",
    "    'folder_fn': 'ivectors/lin_reg/',\n",
    "    'unbalanced': unbalanced,\n",
    "    'timestamp': timestr,\n",
    "    \"final_train_eval\": True\n",
    "\n",
    "}\n",
    "if model in ['cnn', 'cnn_increasing_conv']:\n",
    "    config['filter_n'] = n_filt\n",
    "    config['kernel_size'] = n_kern\n",
    "    config['pool_size'] = n_pool\n",
    "    config['dense_n'] = n_dense\n",
    "    config['batch_norm_everywhere'] = norm_everywhere\n",
    "    config['add_2nd_maxpool'] = second_max\n",
    "    config['optimizer'] = optim\n",
    "    config['additional_conv_max'] = add_conv_max\n",
    "    config['momentum'] = momentum\n",
    "    config['decay_rate'] = dec_rate\n",
    "\n",
    "wandb.init(\n",
    "    project='voxceleb_enrichment',\n",
    "    name='_'.join([model,config['embedding'], strategy]),\n",
    "    config=config\n",
    ")\n",
    "model=final_eval(X, y, strategy, model, spk_labels=plda_vox_yt_id)\n",
    "wandb.run.finish()"
   ]
  },
  {
   "cell_type": "markdown",
   "metadata": {},
   "source": [
    "### Evaluation:"
   ]
  },
  {
   "cell_type": "code",
   "execution_count": 26,
   "metadata": {},
   "outputs": [
    {
     "data": {
      "text/plain": [
       "9.539929539958408"
      ]
     },
     "execution_count": 26,
     "metadata": {},
     "output_type": "execute_result"
    }
   ],
   "source": [
    "y_pred = model.predict(X_test)\n",
    "test_mae = sklearn.metrics.mean_absolute_error(y_pred=y_pred, y_true=y_test)\n",
    "mae_per_obs = np.abs(y_pred - y_test)\n",
    "std_mae = np.std(mae_per_obs)\n",
    "test_mae"
   ]
  },
  {
   "cell_type": "code",
   "execution_count": 27,
   "metadata": {},
   "outputs": [],
   "source": [
    "import pickle\n",
    "model_name=\"ridge_unbalanced\"\n",
    "# Save to file in the current working directory\n",
    "pkl_filename = model_name + \".pkl\"\n",
    "with open(pkl_filename, 'wb') as file:\n",
    "    pickle.dump(model, file)"
   ]
  },
  {
   "cell_type": "code",
   "execution_count": 28,
   "metadata": {},
   "outputs": [
    {
     "name": "stdout",
     "output_type": "stream",
     "text": [
      "mkdir: cannot create directory ‘final_results_age’: File exists\r\n"
     ]
    }
   ],
   "source": [
    "!mkdir final_results_age"
   ]
  },
  {
   "cell_type": "code",
   "execution_count": 29,
   "metadata": {},
   "outputs": [],
   "source": [
    "np.savetxt(\"final_results_age/\" + model_name +'-y_true' + '.txt', np.array(y_test))\n",
    "np.savetxt(\"final_results_age/\" + model_name + '-y_pred' + '.txt', np.array(y_pred))"
   ]
  },
  {
   "cell_type": "markdown",
   "metadata": {},
   "source": [
    "## UNBALANCED - Lasso"
   ]
  },
  {
   "cell_type": "code",
   "execution_count": 30,
   "metadata": {},
   "outputs": [
    {
     "name": "stderr",
     "output_type": "stream",
     "text": [
      "\u001b[34m\u001b[1mwandb\u001b[0m: wandb version 0.10.24 is available!  To upgrade, please run:\n",
      "\u001b[34m\u001b[1mwandb\u001b[0m:  $ pip install wandb --upgrade\n"
     ]
    },
    {
     "data": {
      "text/html": [
       "\n",
       "                Tracking run with wandb version 0.10.13<br/>\n",
       "                Syncing run <strong style=\"color:#cdcd00\">lasso_i-vec_</strong> to <a href=\"https://wandb.ai\" target=\"_blank\">Weights & Biases</a> <a href=\"https://docs.wandb.com/integrations/jupyter.html\" target=\"_blank\">(Documentation)</a>.<br/>\n",
       "                Project page: <a href=\"https://wandb.ai/hechmik/voxceleb_enrichment\" target=\"_blank\">https://wandb.ai/hechmik/voxceleb_enrichment</a><br/>\n",
       "                Run page: <a href=\"https://wandb.ai/hechmik/voxceleb_enrichment/runs/1o267a7u\" target=\"_blank\">https://wandb.ai/hechmik/voxceleb_enrichment/runs/1o267a7u</a><br/>\n",
       "                Run data is saved locally in <code>/home/khaled/age_gender_recognition/asvtorch_modified/asvtorch/notebooks/wandb/run-20210401_092027-1o267a7u</code><br/><br/>\n",
       "            "
      ],
      "text/plain": [
       "<IPython.core.display.HTML object>"
      ]
     },
     "metadata": {},
     "output_type": "display_data"
    },
    {
     "data": {
      "text/html": [
       "<br/>Waiting for W&B process to finish, PID 23934<br/>Program ended successfully."
      ],
      "text/plain": [
       "<IPython.core.display.HTML object>"
      ]
     },
     "metadata": {},
     "output_type": "display_data"
    },
    {
     "data": {
      "text/html": [
       "Find user logs for this run at: <code>/home/khaled/age_gender_recognition/asvtorch_modified/asvtorch/notebooks/wandb/run-20210401_092027-1o267a7u/logs/debug.log</code>"
      ],
      "text/plain": [
       "<IPython.core.display.HTML object>"
      ]
     },
     "metadata": {},
     "output_type": "display_data"
    },
    {
     "data": {
      "text/html": [
       "Find internal logs for this run at: <code>/home/khaled/age_gender_recognition/asvtorch_modified/asvtorch/notebooks/wandb/run-20210401_092027-1o267a7u/logs/debug-internal.log</code>"
      ],
      "text/plain": [
       "<IPython.core.display.HTML object>"
      ]
     },
     "metadata": {},
     "output_type": "display_data"
    },
    {
     "data": {
      "text/html": [
       "<h3>Run summary:</h3><br/><style>\n",
       "    table.wandb td:nth-child(1) { padding: 0 10px; text-align: right }\n",
       "    </style><table class=\"wandb\">\n",
       "<tr><td>Train MAE</td><td>7.80129</td></tr><tr><td>Scenario</td><td>test_mode</td></tr><tr><td>train_std_mae</td><td>6.13506</td></tr><tr><td>_step</td><td>0</td></tr><tr><td>_runtime</td><td>24</td></tr><tr><td>_timestamp</td><td>1617258051</td></tr></table>"
      ],
      "text/plain": [
       "<IPython.core.display.HTML object>"
      ]
     },
     "metadata": {},
     "output_type": "display_data"
    },
    {
     "data": {
      "text/html": [
       "<h3>Run history:</h3><br/><style>\n",
       "    table.wandb td:nth-child(1) { padding: 0 10px; text-align: right }\n",
       "    </style><table class=\"wandb\">\n",
       "<tr><td>Train MAE</td><td>▁</td></tr><tr><td>train_std_mae</td><td>▁</td></tr><tr><td>_step</td><td>▁</td></tr><tr><td>_runtime</td><td>▁</td></tr><tr><td>_timestamp</td><td>▁</td></tr></table><br/>"
      ],
      "text/plain": [
       "<IPython.core.display.HTML object>"
      ]
     },
     "metadata": {},
     "output_type": "display_data"
    },
    {
     "data": {
      "text/html": [
       "Synced 4 W&B file(s), 0 media file(s), 0 artifact file(s) and 0 other file(s)"
      ],
      "text/plain": [
       "<IPython.core.display.HTML object>"
      ]
     },
     "metadata": {},
     "output_type": "display_data"
    },
    {
     "data": {
      "text/html": [
       "\n",
       "                    <br/>Synced <strong style=\"color:#cdcd00\">lasso_i-vec_</strong>: <a href=\"https://wandb.ai/hechmik/voxceleb_enrichment/runs/1o267a7u\" target=\"_blank\">https://wandb.ai/hechmik/voxceleb_enrichment/runs/1o267a7u</a><br/>\n",
       "                "
      ],
      "text/plain": [
       "<IPython.core.display.HTML object>"
      ]
     },
     "metadata": {},
     "output_type": "display_data"
    }
   ],
   "source": [
    "model='lasso'\n",
    "strategy=''\n",
    "n_bin=None\n",
    "overlap=None\n",
    "age=None\n",
    "import time\n",
    "timestr = time.strftime(\"%Y%m%d-%H%M%S\")\n",
    "config = {\n",
    "    'seed' : 19951008,\n",
    "    'log_interval' : 1,\n",
    "    'model_name' : model,\n",
    "    'feature_norm' : strategy,\n",
    "    'num_bins': n_bin,\n",
    "    'overlap_bin': overlap,\n",
    "    'age_overlap': age,\n",
    "    'dropout': None,\n",
    "    'dataset' : 'age',\n",
    "    'embedding' : 'i-vec',\n",
    "    'folder_fn': 'ivectors/lin_reg/',\n",
    "    'unbalanced': unbalanced,\n",
    "    'timestamp': timestr,\n",
    "    \"final_train_eval\": True\n",
    "\n",
    "}\n",
    "if model in ['cnn', 'cnn_increasing_conv']:\n",
    "    config['filter_n'] = n_filt\n",
    "    config['kernel_size'] = n_kern\n",
    "    config['pool_size'] = n_pool\n",
    "    config['dense_n'] = n_dense\n",
    "    config['batch_norm_everywhere'] = norm_everywhere\n",
    "    config['add_2nd_maxpool'] = second_max\n",
    "    config['optimizer'] = optim\n",
    "    config['additional_conv_max'] = add_conv_max\n",
    "    config['momentum'] = momentum\n",
    "    config['decay_rate'] = dec_rate\n",
    "\n",
    "wandb.init(\n",
    "    project='voxceleb_enrichment',\n",
    "    name='_'.join([model,config['embedding'], strategy]),\n",
    "    config=config\n",
    ")\n",
    "model=final_eval(X, y, strategy, model, spk_labels=plda_vox_yt_id)\n",
    "wandb.run.finish()"
   ]
  },
  {
   "cell_type": "markdown",
   "metadata": {},
   "source": [
    "### Evaluation"
   ]
  },
  {
   "cell_type": "code",
   "execution_count": 31,
   "metadata": {},
   "outputs": [
    {
     "data": {
      "text/plain": [
       "9.516635293969033"
      ]
     },
     "execution_count": 31,
     "metadata": {},
     "output_type": "execute_result"
    }
   ],
   "source": [
    "y_pred = model.predict(X_test)\n",
    "test_mae = sklearn.metrics.mean_absolute_error(y_pred=y_pred, y_true=y_test)\n",
    "mae_per_obs = np.abs(y_pred - y_test)\n",
    "std_mae = np.std(mae_per_obs)\n",
    "test_mae"
   ]
  },
  {
   "cell_type": "code",
   "execution_count": 32,
   "metadata": {},
   "outputs": [],
   "source": [
    "model_name=\"lasso_unbalanced\"\n",
    "# Save to file in the current working directory\n",
    "pkl_filename = model_name + \".pkl\"\n",
    "with open(pkl_filename, 'wb') as file:\n",
    "    pickle.dump(model, file)"
   ]
  },
  {
   "cell_type": "code",
   "execution_count": 33,
   "metadata": {},
   "outputs": [],
   "source": [
    "np.savetxt(\"final_results_age/\" + model_name +'-y_true' + '.txt', np.array(y_test))\n",
    "np.savetxt(\"final_results_age/\" + model_name + '-y_pred' + '.txt', np.array(y_pred))"
   ]
  },
  {
   "cell_type": "markdown",
   "metadata": {},
   "source": [
    "## UNBALANCED - Linear regression"
   ]
  },
  {
   "cell_type": "code",
   "execution_count": 34,
   "metadata": {},
   "outputs": [
    {
     "name": "stderr",
     "output_type": "stream",
     "text": [
      "\u001b[34m\u001b[1mwandb\u001b[0m: wandb version 0.10.24 is available!  To upgrade, please run:\n",
      "\u001b[34m\u001b[1mwandb\u001b[0m:  $ pip install wandb --upgrade\n"
     ]
    },
    {
     "data": {
      "text/html": [
       "\n",
       "                Tracking run with wandb version 0.10.13<br/>\n",
       "                Syncing run <strong style=\"color:#cdcd00\">lm_i-vec_</strong> to <a href=\"https://wandb.ai\" target=\"_blank\">Weights & Biases</a> <a href=\"https://docs.wandb.com/integrations/jupyter.html\" target=\"_blank\">(Documentation)</a>.<br/>\n",
       "                Project page: <a href=\"https://wandb.ai/hechmik/voxceleb_enrichment\" target=\"_blank\">https://wandb.ai/hechmik/voxceleb_enrichment</a><br/>\n",
       "                Run page: <a href=\"https://wandb.ai/hechmik/voxceleb_enrichment/runs/7un1zrqq\" target=\"_blank\">https://wandb.ai/hechmik/voxceleb_enrichment/runs/7un1zrqq</a><br/>\n",
       "                Run data is saved locally in <code>/home/khaled/age_gender_recognition/asvtorch_modified/asvtorch/notebooks/wandb/run-20210401_092056-7un1zrqq</code><br/><br/>\n",
       "            "
      ],
      "text/plain": [
       "<IPython.core.display.HTML object>"
      ]
     },
     "metadata": {},
     "output_type": "display_data"
    },
    {
     "data": {
      "text/html": [
       "<br/>Waiting for W&B process to finish, PID 24518<br/>Program ended successfully."
      ],
      "text/plain": [
       "<IPython.core.display.HTML object>"
      ]
     },
     "metadata": {},
     "output_type": "display_data"
    },
    {
     "data": {
      "text/html": [
       "Find user logs for this run at: <code>/home/khaled/age_gender_recognition/asvtorch_modified/asvtorch/notebooks/wandb/run-20210401_092056-7un1zrqq/logs/debug.log</code>"
      ],
      "text/plain": [
       "<IPython.core.display.HTML object>"
      ]
     },
     "metadata": {},
     "output_type": "display_data"
    },
    {
     "data": {
      "text/html": [
       "Find internal logs for this run at: <code>/home/khaled/age_gender_recognition/asvtorch_modified/asvtorch/notebooks/wandb/run-20210401_092056-7un1zrqq/logs/debug-internal.log</code>"
      ],
      "text/plain": [
       "<IPython.core.display.HTML object>"
      ]
     },
     "metadata": {},
     "output_type": "display_data"
    },
    {
     "data": {
      "text/html": [
       "<h3>Run summary:</h3><br/><style>\n",
       "    table.wandb td:nth-child(1) { padding: 0 10px; text-align: right }\n",
       "    </style><table class=\"wandb\">\n",
       "<tr><td>Train MAE</td><td>7.75568</td></tr><tr><td>Scenario</td><td>test_mode</td></tr><tr><td>train_std_mae</td><td>6.13336</td></tr><tr><td>_step</td><td>0</td></tr><tr><td>_runtime</td><td>16</td></tr><tr><td>_timestamp</td><td>1617258072</td></tr></table>"
      ],
      "text/plain": [
       "<IPython.core.display.HTML object>"
      ]
     },
     "metadata": {},
     "output_type": "display_data"
    },
    {
     "data": {
      "text/html": [
       "<h3>Run history:</h3><br/><style>\n",
       "    table.wandb td:nth-child(1) { padding: 0 10px; text-align: right }\n",
       "    </style><table class=\"wandb\">\n",
       "<tr><td>Train MAE</td><td>▁</td></tr><tr><td>train_std_mae</td><td>▁</td></tr><tr><td>_step</td><td>▁</td></tr><tr><td>_runtime</td><td>▁</td></tr><tr><td>_timestamp</td><td>▁</td></tr></table><br/>"
      ],
      "text/plain": [
       "<IPython.core.display.HTML object>"
      ]
     },
     "metadata": {},
     "output_type": "display_data"
    },
    {
     "data": {
      "text/html": [
       "Synced 4 W&B file(s), 0 media file(s), 0 artifact file(s) and 0 other file(s)"
      ],
      "text/plain": [
       "<IPython.core.display.HTML object>"
      ]
     },
     "metadata": {},
     "output_type": "display_data"
    },
    {
     "data": {
      "text/html": [
       "\n",
       "                    <br/>Synced <strong style=\"color:#cdcd00\">lm_i-vec_</strong>: <a href=\"https://wandb.ai/hechmik/voxceleb_enrichment/runs/7un1zrqq\" target=\"_blank\">https://wandb.ai/hechmik/voxceleb_enrichment/runs/7un1zrqq</a><br/>\n",
       "                "
      ],
      "text/plain": [
       "<IPython.core.display.HTML object>"
      ]
     },
     "metadata": {},
     "output_type": "display_data"
    }
   ],
   "source": [
    "model='lm'\n",
    "strategy=''\n",
    "n_bin=None\n",
    "overlap=None\n",
    "age=None\n",
    "import time\n",
    "timestr = time.strftime(\"%Y%m%d-%H%M%S\")\n",
    "config = {\n",
    "    'seed' : 19951008,\n",
    "    'log_interval' : 1,\n",
    "    'model_name' : model,\n",
    "    'feature_norm' : strategy,\n",
    "    'num_bins': n_bin,\n",
    "    'overlap_bin': overlap,\n",
    "    'age_overlap': age,\n",
    "    'dropout': None,\n",
    "    'dataset' : 'age',\n",
    "    'embedding' : 'i-vec',\n",
    "    'folder_fn': 'ivectors/lin_reg/',\n",
    "    'unbalanced': unbalanced,\n",
    "    'timestamp': timestr,\n",
    "    \"final_train_eval\": True\n",
    "\n",
    "}\n",
    "\n",
    "wandb.init(\n",
    "    project='voxceleb_enrichment',\n",
    "    name='_'.join([model,config['embedding'], strategy]),\n",
    "    config=config\n",
    ")\n",
    "model=final_eval(X, y, strategy, model, spk_labels=plda_vox_yt_id)\n",
    "wandb.run.finish()"
   ]
  },
  {
   "cell_type": "code",
   "execution_count": 35,
   "metadata": {},
   "outputs": [
    {
     "data": {
      "text/plain": [
       "9.443467508297424"
      ]
     },
     "execution_count": 35,
     "metadata": {},
     "output_type": "execute_result"
    }
   ],
   "source": [
    "y_pred = model.predict(X_test)\n",
    "test_mae = sklearn.metrics.mean_absolute_error(y_pred=y_pred, y_true=y_test)\n",
    "mae_per_obs = np.abs(y_pred - y_test)\n",
    "std_mae = np.std(mae_per_obs)\n",
    "test_mae"
   ]
  },
  {
   "cell_type": "code",
   "execution_count": 36,
   "metadata": {},
   "outputs": [],
   "source": [
    "model_name=\"lm_unbalanced\"\n",
    "# Save to file in the current working directory\n",
    "pkl_filename = model_name + \".pkl\"\n",
    "with open(pkl_filename, 'wb') as file:\n",
    "    pickle.dump(model, file)"
   ]
  },
  {
   "cell_type": "code",
   "execution_count": 37,
   "metadata": {},
   "outputs": [],
   "source": [
    "np.savetxt(\"final_results_age/\" + model_name +'-y_true' + '.txt', np.array(y_test))\n",
    "np.savetxt(\"final_results_age/\" + model_name + '-y_pred' + '.txt', np.array(y_pred))"
   ]
  },
  {
   "cell_type": "markdown",
   "metadata": {},
   "source": [
    "## Balanced - Ridge\n",
    "### Prepare balanced train set"
   ]
  },
  {
   "cell_type": "code",
   "execution_count": 38,
   "metadata": {},
   "outputs": [
    {
     "name": "stdout",
     "output_type": "stream",
     "text": [
      "get_correct_recordings_index >>>\n",
      "compute least freq: True\n",
      "Least freq: 1\n",
      "get_correct_recordings_index <<<\n"
     ]
    }
   ],
   "source": [
    "balanced_recordings_indexes = get_correct_recordings_index(plda_vox_yt_id)\n",
    "y = np.array(y)[balanced_recordings_indexes]\n",
    "X = train_vectors[balanced_recordings_indexes]"
   ]
  },
  {
   "cell_type": "code",
   "execution_count": 39,
   "metadata": {},
   "outputs": [],
   "source": [
    "unbalanced=False"
   ]
  },
  {
   "cell_type": "markdown",
   "metadata": {},
   "source": [
    "### Train model"
   ]
  },
  {
   "cell_type": "code",
   "execution_count": 40,
   "metadata": {},
   "outputs": [
    {
     "name": "stderr",
     "output_type": "stream",
     "text": [
      "\u001b[34m\u001b[1mwandb\u001b[0m: wandb version 0.10.24 is available!  To upgrade, please run:\n",
      "\u001b[34m\u001b[1mwandb\u001b[0m:  $ pip install wandb --upgrade\n"
     ]
    },
    {
     "data": {
      "text/html": [
       "\n",
       "                Tracking run with wandb version 0.10.13<br/>\n",
       "                Syncing run <strong style=\"color:#cdcd00\">ridge_i-vec_</strong> to <a href=\"https://wandb.ai\" target=\"_blank\">Weights & Biases</a> <a href=\"https://docs.wandb.com/integrations/jupyter.html\" target=\"_blank\">(Documentation)</a>.<br/>\n",
       "                Project page: <a href=\"https://wandb.ai/hechmik/voxceleb_enrichment\" target=\"_blank\">https://wandb.ai/hechmik/voxceleb_enrichment</a><br/>\n",
       "                Run page: <a href=\"https://wandb.ai/hechmik/voxceleb_enrichment/runs/9zgpla59\" target=\"_blank\">https://wandb.ai/hechmik/voxceleb_enrichment/runs/9zgpla59</a><br/>\n",
       "                Run data is saved locally in <code>/home/khaled/age_gender_recognition/asvtorch_modified/asvtorch/notebooks/wandb/run-20210401_092119-9zgpla59</code><br/><br/>\n",
       "            "
      ],
      "text/plain": [
       "<IPython.core.display.HTML object>"
      ]
     },
     "metadata": {},
     "output_type": "display_data"
    },
    {
     "data": {
      "text/html": [
       "<br/>Waiting for W&B process to finish, PID 24985<br/>Program ended successfully."
      ],
      "text/plain": [
       "<IPython.core.display.HTML object>"
      ]
     },
     "metadata": {},
     "output_type": "display_data"
    },
    {
     "data": {
      "text/html": [
       "Find user logs for this run at: <code>/home/khaled/age_gender_recognition/asvtorch_modified/asvtorch/notebooks/wandb/run-20210401_092119-9zgpla59/logs/debug.log</code>"
      ],
      "text/plain": [
       "<IPython.core.display.HTML object>"
      ]
     },
     "metadata": {},
     "output_type": "display_data"
    },
    {
     "data": {
      "text/html": [
       "Find internal logs for this run at: <code>/home/khaled/age_gender_recognition/asvtorch_modified/asvtorch/notebooks/wandb/run-20210401_092119-9zgpla59/logs/debug-internal.log</code>"
      ],
      "text/plain": [
       "<IPython.core.display.HTML object>"
      ]
     },
     "metadata": {},
     "output_type": "display_data"
    },
    {
     "data": {
      "text/html": [
       "<h3>Run summary:</h3><br/><style>\n",
       "    table.wandb td:nth-child(1) { padding: 0 10px; text-align: right }\n",
       "    </style><table class=\"wandb\">\n",
       "<tr><td>Train MAE</td><td>8.69758</td></tr><tr><td>Scenario</td><td>test_mode</td></tr><tr><td>train_std_mae</td><td>6.3138</td></tr><tr><td>_step</td><td>0</td></tr><tr><td>_runtime</td><td>19</td></tr><tr><td>_timestamp</td><td>1617258098</td></tr></table>"
      ],
      "text/plain": [
       "<IPython.core.display.HTML object>"
      ]
     },
     "metadata": {},
     "output_type": "display_data"
    },
    {
     "data": {
      "text/html": [
       "<h3>Run history:</h3><br/><style>\n",
       "    table.wandb td:nth-child(1) { padding: 0 10px; text-align: right }\n",
       "    </style><table class=\"wandb\">\n",
       "<tr><td>Train MAE</td><td>▁</td></tr><tr><td>train_std_mae</td><td>▁</td></tr><tr><td>_step</td><td>▁</td></tr><tr><td>_runtime</td><td>▁</td></tr><tr><td>_timestamp</td><td>▁</td></tr></table><br/>"
      ],
      "text/plain": [
       "<IPython.core.display.HTML object>"
      ]
     },
     "metadata": {},
     "output_type": "display_data"
    },
    {
     "data": {
      "text/html": [
       "Synced 4 W&B file(s), 0 media file(s), 0 artifact file(s) and 0 other file(s)"
      ],
      "text/plain": [
       "<IPython.core.display.HTML object>"
      ]
     },
     "metadata": {},
     "output_type": "display_data"
    },
    {
     "data": {
      "text/html": [
       "\n",
       "                    <br/>Synced <strong style=\"color:#cdcd00\">ridge_i-vec_</strong>: <a href=\"https://wandb.ai/hechmik/voxceleb_enrichment/runs/9zgpla59\" target=\"_blank\">https://wandb.ai/hechmik/voxceleb_enrichment/runs/9zgpla59</a><br/>\n",
       "                "
      ],
      "text/plain": [
       "<IPython.core.display.HTML object>"
      ]
     },
     "metadata": {},
     "output_type": "display_data"
    }
   ],
   "source": [
    "model='ridge'\n",
    "strategy=''\n",
    "n_bin=None\n",
    "overlap=None\n",
    "age=None\n",
    "import time\n",
    "timestr = time.strftime(\"%Y%m%d-%H%M%S\")\n",
    "config = {\n",
    "    'seed' : 19951008,\n",
    "    'log_interval' : 1,\n",
    "    'model_name' : model,\n",
    "    'feature_norm' : strategy,\n",
    "    'num_bins': n_bin,\n",
    "    'overlap_bin': overlap,\n",
    "    'age_overlap': age,\n",
    "    'dropout': None,\n",
    "    'dataset' : 'age',\n",
    "    'embedding' : 'i-vec',\n",
    "    'folder_fn': 'ivectors/lin_reg/',\n",
    "    'unbalanced': unbalanced,\n",
    "    'timestamp': timestr,\n",
    "    \"final_train_eval\": True\n",
    "\n",
    "}\n",
    "if model in ['cnn', 'cnn_increasing_conv']:\n",
    "    config['filter_n'] = n_filt\n",
    "    config['kernel_size'] = n_kern\n",
    "    config['pool_size'] = n_pool\n",
    "    config['dense_n'] = n_dense\n",
    "    config['batch_norm_everywhere'] = norm_everywhere\n",
    "    config['add_2nd_maxpool'] = second_max\n",
    "    config['optimizer'] = optim\n",
    "    config['additional_conv_max'] = add_conv_max\n",
    "    config['momentum'] = momentum\n",
    "    config['decay_rate'] = dec_rate\n",
    "\n",
    "wandb.init(\n",
    "    project='voxceleb_enrichment',\n",
    "    name='_'.join([model,config['embedding'], strategy]),\n",
    "    config=config\n",
    ")\n",
    "model=final_eval(X, y, strategy, model, spk_labels=plda_vox_yt_id)\n",
    "wandb.run.finish()"
   ]
  },
  {
   "cell_type": "code",
   "execution_count": 41,
   "metadata": {},
   "outputs": [
    {
     "data": {
      "text/plain": [
       "10.402044942891498"
      ]
     },
     "execution_count": 41,
     "metadata": {},
     "output_type": "execute_result"
    }
   ],
   "source": [
    "y_pred = model.predict(X_test)\n",
    "test_mae = sklearn.metrics.mean_absolute_error(y_pred=y_pred, y_true=y_test)\n",
    "mae_per_obs = np.abs(y_pred - y_test)\n",
    "std_mae = np.std(mae_per_obs)\n",
    "test_mae"
   ]
  },
  {
   "cell_type": "code",
   "execution_count": 42,
   "metadata": {},
   "outputs": [],
   "source": [
    "model_name=\"ridge_balanced\"\n",
    "# Save to file in the current working directory\n",
    "pkl_filename = model_name + \".pkl\"\n",
    "with open(pkl_filename, 'wb') as file:\n",
    "    pickle.dump(model, file)"
   ]
  },
  {
   "cell_type": "code",
   "execution_count": 43,
   "metadata": {},
   "outputs": [],
   "source": [
    "np.savetxt(\"final_results_age/\" + model_name +'-y_true' + '.txt', np.array(y_test))\n",
    "np.savetxt(\"final_results_age/\" + model_name + '-y_pred' + '.txt', np.array(y_pred))"
   ]
  },
  {
   "cell_type": "markdown",
   "metadata": {},
   "source": [
    "## Balanced Lasso"
   ]
  },
  {
   "cell_type": "code",
   "execution_count": 44,
   "metadata": {},
   "outputs": [
    {
     "name": "stderr",
     "output_type": "stream",
     "text": [
      "\u001b[34m\u001b[1mwandb\u001b[0m: wandb version 0.10.24 is available!  To upgrade, please run:\n",
      "\u001b[34m\u001b[1mwandb\u001b[0m:  $ pip install wandb --upgrade\n"
     ]
    },
    {
     "data": {
      "text/html": [
       "\n",
       "                Tracking run with wandb version 0.10.13<br/>\n",
       "                Syncing run <strong style=\"color:#cdcd00\">lasso_i-vec_</strong> to <a href=\"https://wandb.ai\" target=\"_blank\">Weights & Biases</a> <a href=\"https://docs.wandb.com/integrations/jupyter.html\" target=\"_blank\">(Documentation)</a>.<br/>\n",
       "                Project page: <a href=\"https://wandb.ai/hechmik/voxceleb_enrichment\" target=\"_blank\">https://wandb.ai/hechmik/voxceleb_enrichment</a><br/>\n",
       "                Run page: <a href=\"https://wandb.ai/hechmik/voxceleb_enrichment/runs/2grklbv4\" target=\"_blank\">https://wandb.ai/hechmik/voxceleb_enrichment/runs/2grklbv4</a><br/>\n",
       "                Run data is saved locally in <code>/home/khaled/age_gender_recognition/asvtorch_modified/asvtorch/notebooks/wandb/run-20210401_092142-2grklbv4</code><br/><br/>\n",
       "            "
      ],
      "text/plain": [
       "<IPython.core.display.HTML object>"
      ]
     },
     "metadata": {},
     "output_type": "display_data"
    },
    {
     "data": {
      "text/html": [
       "<br/>Waiting for W&B process to finish, PID 25392<br/>Program ended successfully."
      ],
      "text/plain": [
       "<IPython.core.display.HTML object>"
      ]
     },
     "metadata": {},
     "output_type": "display_data"
    },
    {
     "data": {
      "text/html": [
       "Find user logs for this run at: <code>/home/khaled/age_gender_recognition/asvtorch_modified/asvtorch/notebooks/wandb/run-20210401_092142-2grklbv4/logs/debug.log</code>"
      ],
      "text/plain": [
       "<IPython.core.display.HTML object>"
      ]
     },
     "metadata": {},
     "output_type": "display_data"
    },
    {
     "data": {
      "text/html": [
       "Find internal logs for this run at: <code>/home/khaled/age_gender_recognition/asvtorch_modified/asvtorch/notebooks/wandb/run-20210401_092142-2grklbv4/logs/debug-internal.log</code>"
      ],
      "text/plain": [
       "<IPython.core.display.HTML object>"
      ]
     },
     "metadata": {},
     "output_type": "display_data"
    },
    {
     "data": {
      "text/html": [
       "<h3>Run summary:</h3><br/><style>\n",
       "    table.wandb td:nth-child(1) { padding: 0 10px; text-align: right }\n",
       "    </style><table class=\"wandb\">\n",
       "<tr><td>Train MAE</td><td>8.04339</td></tr><tr><td>Scenario</td><td>test_mode</td></tr><tr><td>train_std_mae</td><td>5.97349</td></tr><tr><td>_step</td><td>0</td></tr><tr><td>_runtime</td><td>8</td></tr><tr><td>_timestamp</td><td>1617258110</td></tr></table>"
      ],
      "text/plain": [
       "<IPython.core.display.HTML object>"
      ]
     },
     "metadata": {},
     "output_type": "display_data"
    },
    {
     "data": {
      "text/html": [
       "<h3>Run history:</h3><br/><style>\n",
       "    table.wandb td:nth-child(1) { padding: 0 10px; text-align: right }\n",
       "    </style><table class=\"wandb\">\n",
       "<tr><td>Train MAE</td><td>▁</td></tr><tr><td>train_std_mae</td><td>▁</td></tr><tr><td>_step</td><td>▁</td></tr><tr><td>_runtime</td><td>▁</td></tr><tr><td>_timestamp</td><td>▁</td></tr></table><br/>"
      ],
      "text/plain": [
       "<IPython.core.display.HTML object>"
      ]
     },
     "metadata": {},
     "output_type": "display_data"
    },
    {
     "data": {
      "text/html": [
       "Synced 4 W&B file(s), 0 media file(s), 0 artifact file(s) and 0 other file(s)"
      ],
      "text/plain": [
       "<IPython.core.display.HTML object>"
      ]
     },
     "metadata": {},
     "output_type": "display_data"
    },
    {
     "data": {
      "text/html": [
       "\n",
       "                    <br/>Synced <strong style=\"color:#cdcd00\">lasso_i-vec_</strong>: <a href=\"https://wandb.ai/hechmik/voxceleb_enrichment/runs/2grklbv4\" target=\"_blank\">https://wandb.ai/hechmik/voxceleb_enrichment/runs/2grklbv4</a><br/>\n",
       "                "
      ],
      "text/plain": [
       "<IPython.core.display.HTML object>"
      ]
     },
     "metadata": {},
     "output_type": "display_data"
    }
   ],
   "source": [
    "model='lasso'\n",
    "strategy=''\n",
    "n_bin=None\n",
    "overlap=None\n",
    "age=None\n",
    "import time\n",
    "timestr = time.strftime(\"%Y%m%d-%H%M%S\")\n",
    "config = {\n",
    "    'seed' : 19951008,\n",
    "    'log_interval' : 1,\n",
    "    'model_name' : model,\n",
    "    'feature_norm' : strategy,\n",
    "    'num_bins': n_bin,\n",
    "    'overlap_bin': overlap,\n",
    "    'age_overlap': age,\n",
    "    'dropout': None,\n",
    "    'dataset' : 'age',\n",
    "    'embedding' : 'i-vec',\n",
    "    'folder_fn': 'ivectors/lin_reg/',\n",
    "    'unbalanced': unbalanced,\n",
    "    'timestamp': timestr,\n",
    "    \"final_train_eval\": True\n",
    "\n",
    "}\n",
    "\n",
    "wandb.init(\n",
    "    project='voxceleb_enrichment',\n",
    "    name='_'.join([model,config['embedding'], strategy]),\n",
    "    config=config\n",
    ")\n",
    "model=final_eval(X, y, strategy, model, spk_labels=plda_vox_yt_id)\n",
    "wandb.run.finish()"
   ]
  },
  {
   "cell_type": "code",
   "execution_count": 45,
   "metadata": {},
   "outputs": [
    {
     "data": {
      "text/plain": [
       "10.126262786648606"
      ]
     },
     "execution_count": 45,
     "metadata": {},
     "output_type": "execute_result"
    }
   ],
   "source": [
    "y_pred = model.predict(X_test)\n",
    "test_mae = sklearn.metrics.mean_absolute_error(y_pred=y_pred, y_true=y_test)\n",
    "mae_per_obs = np.abs(y_pred - y_test)\n",
    "std_mae = np.std(mae_per_obs)\n",
    "test_mae"
   ]
  },
  {
   "cell_type": "code",
   "execution_count": 46,
   "metadata": {},
   "outputs": [],
   "source": [
    "model_name=\"lasso_balanced\"\n",
    "# Save to file in the current working directory\n",
    "pkl_filename = model_name + \".pkl\"\n",
    "with open(pkl_filename, 'wb') as file:\n",
    "    pickle.dump(model, file)"
   ]
  },
  {
   "cell_type": "code",
   "execution_count": 47,
   "metadata": {},
   "outputs": [],
   "source": [
    "np.savetxt(\"final_results_age/\" + model_name +'-y_true' + '.txt', np.array(y_test))\n",
    "np.savetxt(\"final_results_age/\" + model_name + '-y_pred' + '.txt', np.array(y_pred))"
   ]
  },
  {
   "cell_type": "markdown",
   "metadata": {},
   "source": [
    "## Balanced - Linear regression"
   ]
  },
  {
   "cell_type": "code",
   "execution_count": 48,
   "metadata": {},
   "outputs": [
    {
     "name": "stderr",
     "output_type": "stream",
     "text": [
      "\u001b[34m\u001b[1mwandb\u001b[0m: wandb version 0.10.24 is available!  To upgrade, please run:\n",
      "\u001b[34m\u001b[1mwandb\u001b[0m:  $ pip install wandb --upgrade\n"
     ]
    },
    {
     "data": {
      "text/html": [
       "\n",
       "                Tracking run with wandb version 0.10.13<br/>\n",
       "                Syncing run <strong style=\"color:#cdcd00\">lm_i-vec_</strong> to <a href=\"https://wandb.ai\" target=\"_blank\">Weights & Biases</a> <a href=\"https://docs.wandb.com/integrations/jupyter.html\" target=\"_blank\">(Documentation)</a>.<br/>\n",
       "                Project page: <a href=\"https://wandb.ai/hechmik/voxceleb_enrichment\" target=\"_blank\">https://wandb.ai/hechmik/voxceleb_enrichment</a><br/>\n",
       "                Run page: <a href=\"https://wandb.ai/hechmik/voxceleb_enrichment/runs/1epgnpic\" target=\"_blank\">https://wandb.ai/hechmik/voxceleb_enrichment/runs/1epgnpic</a><br/>\n",
       "                Run data is saved locally in <code>/home/khaled/age_gender_recognition/asvtorch_modified/asvtorch/notebooks/wandb/run-20210401_092155-1epgnpic</code><br/><br/>\n",
       "            "
      ],
      "text/plain": [
       "<IPython.core.display.HTML object>"
      ]
     },
     "metadata": {},
     "output_type": "display_data"
    },
    {
     "data": {
      "text/html": [
       "<br/>Waiting for W&B process to finish, PID 25867<br/>Program ended successfully."
      ],
      "text/plain": [
       "<IPython.core.display.HTML object>"
      ]
     },
     "metadata": {},
     "output_type": "display_data"
    },
    {
     "data": {
      "text/html": [
       "Find user logs for this run at: <code>/home/khaled/age_gender_recognition/asvtorch_modified/asvtorch/notebooks/wandb/run-20210401_092155-1epgnpic/logs/debug.log</code>"
      ],
      "text/plain": [
       "<IPython.core.display.HTML object>"
      ]
     },
     "metadata": {},
     "output_type": "display_data"
    },
    {
     "data": {
      "text/html": [
       "Find internal logs for this run at: <code>/home/khaled/age_gender_recognition/asvtorch_modified/asvtorch/notebooks/wandb/run-20210401_092155-1epgnpic/logs/debug-internal.log</code>"
      ],
      "text/plain": [
       "<IPython.core.display.HTML object>"
      ]
     },
     "metadata": {},
     "output_type": "display_data"
    },
    {
     "data": {
      "text/html": [
       "<h3>Run summary:</h3><br/><style>\n",
       "    table.wandb td:nth-child(1) { padding: 0 10px; text-align: right }\n",
       "    </style><table class=\"wandb\">\n",
       "<tr><td>Train MAE</td><td>7.53145</td></tr><tr><td>Scenario</td><td>test_mode</td></tr><tr><td>train_std_mae</td><td>5.73478</td></tr><tr><td>_step</td><td>0</td></tr><tr><td>_runtime</td><td>12</td></tr><tr><td>_timestamp</td><td>1617258128</td></tr></table>"
      ],
      "text/plain": [
       "<IPython.core.display.HTML object>"
      ]
     },
     "metadata": {},
     "output_type": "display_data"
    },
    {
     "data": {
      "text/html": [
       "<h3>Run history:</h3><br/><style>\n",
       "    table.wandb td:nth-child(1) { padding: 0 10px; text-align: right }\n",
       "    </style><table class=\"wandb\">\n",
       "<tr><td>Train MAE</td><td>▁</td></tr><tr><td>train_std_mae</td><td>▁</td></tr><tr><td>_step</td><td>▁</td></tr><tr><td>_runtime</td><td>▁</td></tr><tr><td>_timestamp</td><td>▁</td></tr></table><br/>"
      ],
      "text/plain": [
       "<IPython.core.display.HTML object>"
      ]
     },
     "metadata": {},
     "output_type": "display_data"
    },
    {
     "data": {
      "text/html": [
       "Synced 4 W&B file(s), 0 media file(s), 0 artifact file(s) and 0 other file(s)"
      ],
      "text/plain": [
       "<IPython.core.display.HTML object>"
      ]
     },
     "metadata": {},
     "output_type": "display_data"
    },
    {
     "data": {
      "text/html": [
       "\n",
       "                    <br/>Synced <strong style=\"color:#cdcd00\">lm_i-vec_</strong>: <a href=\"https://wandb.ai/hechmik/voxceleb_enrichment/runs/1epgnpic\" target=\"_blank\">https://wandb.ai/hechmik/voxceleb_enrichment/runs/1epgnpic</a><br/>\n",
       "                "
      ],
      "text/plain": [
       "<IPython.core.display.HTML object>"
      ]
     },
     "metadata": {},
     "output_type": "display_data"
    }
   ],
   "source": [
    "model='lm'\n",
    "strategy=''\n",
    "n_bin=None\n",
    "overlap=None\n",
    "age=None\n",
    "import time\n",
    "timestr = time.strftime(\"%Y%m%d-%H%M%S\")\n",
    "config = {\n",
    "    'seed' : 19951008,\n",
    "    'log_interval' : 1,\n",
    "    'model_name' : model,\n",
    "    'feature_norm' : strategy,\n",
    "    'num_bins': n_bin,\n",
    "    'overlap_bin': overlap,\n",
    "    'age_overlap': age,\n",
    "    'dropout': None,\n",
    "    'dataset' : 'age',\n",
    "    'embedding' : 'i-vec',\n",
    "    'folder_fn': 'ivectors/lin_reg/',\n",
    "    'unbalanced': unbalanced,\n",
    "    'timestamp': timestr,\n",
    "    \"final_train_eval\": True\n",
    "\n",
    "}\n",
    "\n",
    "wandb.init(\n",
    "    project='voxceleb_enrichment',\n",
    "    name='_'.join([model,config['embedding'], strategy]),\n",
    "    config=config\n",
    ")\n",
    "model=final_eval(X, y, strategy, model, spk_labels=plda_vox_yt_id)\n",
    "wandb.run.finish()"
   ]
  },
  {
   "cell_type": "code",
   "execution_count": 49,
   "metadata": {},
   "outputs": [
    {
     "data": {
      "text/plain": [
       "10.332942989725082"
      ]
     },
     "execution_count": 49,
     "metadata": {},
     "output_type": "execute_result"
    }
   ],
   "source": [
    "y_pred = model.predict(X_test)\n",
    "test_mae = sklearn.metrics.mean_absolute_error(y_pred=y_pred, y_true=y_test)\n",
    "mae_per_obs = np.abs(y_pred - y_test)\n",
    "std_mae = np.std(mae_per_obs)\n",
    "test_mae"
   ]
  },
  {
   "cell_type": "code",
   "execution_count": 50,
   "metadata": {},
   "outputs": [],
   "source": [
    "model_name=\"lm_balanced\"\n",
    "# Save to file in the current working directory\n",
    "pkl_filename = model_name + \".pkl\"\n",
    "with open(pkl_filename, 'wb') as file:\n",
    "    pickle.dump(model, file)"
   ]
  },
  {
   "cell_type": "code",
   "execution_count": 51,
   "metadata": {},
   "outputs": [],
   "source": [
    "np.savetxt(\"final_results_age/\" + model_name +'-y_true' + '.txt', np.array(y_test))\n",
    "np.savetxt(\"final_results_age/\" + model_name + '-y_pred' + '.txt', np.array(y_pred))"
   ]
  },
  {
   "cell_type": "code",
   "execution_count": null,
   "metadata": {},
   "outputs": [],
   "source": []
  }
 ],
 "metadata": {
  "kernelspec": {
   "display_name": "asvtorch",
   "language": "python",
   "name": "asvtorch"
  },
  "language_info": {
   "codemirror_mode": {
    "name": "ipython",
    "version": 3
   },
   "file_extension": ".py",
   "mimetype": "text/x-python",
   "name": "python",
   "nbconvert_exporter": "python",
   "pygments_lexer": "ipython3",
   "version": "3.7.9"
  }
 },
 "nbformat": 4,
 "nbformat_minor": 2
}
